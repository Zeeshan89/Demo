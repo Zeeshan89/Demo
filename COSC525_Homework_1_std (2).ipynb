{
  "cells": [
    {
      "cell_type": "markdown",
      "source": [
        "**Name:** Zeeshan Aslam\n",
        "\n",
        "**Course:** COSC525\n",
        "\n",
        "**Submitted to:** Dr. Hector Santos\n",
        "\n",
        "\n",
        "\n"
      ],
      "metadata": {
        "id": "8agHJL4skX3c"
      }
    },
    {
      "cell_type": "markdown",
      "metadata": {
        "id": "q0qDf1bRLgAZ"
      },
      "source": [
        "# Python Basics and Model Optimization Fundamentals\n",
        "\n",
        "Welcome to your first homework. This exercise will introduce you to key Python functions and concepts, even if you've used Python before. This homework will guide the development of the building blocks for your own neural network model.\n",
        "\n",
        "In this homework, you will\n",
        "- Work with Python and Numpy to better understand matrix operations, dimensions, and interactions.\n",
        "- You will also learn how to compute function parameter gradients and update these parameters to create a classification model.\n",
        "\n",
        "**Instructions:**\n",
        "- Use Python3 for all exercises.\n",
        "- Install Numpy, MatplotLib, Pillow (pip3 install numpy, matplotlib, pillow)\n",
        "- Install PyTorch and its components. This a little more elaborate because it is system dependent. Make sure you install torchvision for datasets. You will not use PyTorch in this homework. We are using the Torch library for easy access to datasets.\n",
        "- Run all test cells for a superficial test of your functions. These tests are designed to help you with your assignment but do not rely on them for complete correctness. Your code will be assessed on a separate more comprehensive test set.\n",
        "\n",
        "**Note on Numpy:**\n",
        "- Numpy is a primary package for scientific computing in Python, and it's maintained by a large community (www.numpy.org). In this exercise, you will learn various crucial numpy functions such as `np.exp`, `np.log`, and `np.reshape`. It's essential to understand how to use these functions for your deep learning journey.\n",
        "\n",
        "**Note on Jupyter Notebooks:**\n",
        "- Remember to re-run cells from the start when restarting kernel.\n",
        "- You can run a cell with the keyboard shortcut shift+enter\n"
      ]
    },
    {
      "cell_type": "code",
      "execution_count": 1,
      "metadata": {
        "id": "xvcE_CHFLgAj"
      },
      "outputs": [],
      "source": [
        "# version 1.0"
      ]
    },
    {
      "cell_type": "markdown",
      "metadata": {
        "id": "LW1_RY06LgAk"
      },
      "source": [
        "## 1. Python Basics (20 Pts)\n"
      ]
    },
    {
      "cell_type": "markdown",
      "metadata": {
        "id": "xDDUk7EtLgAk"
      },
      "source": [
        "### Import needed Python libraries and functions [Do not Change]"
      ]
    },
    {
      "cell_type": "code",
      "execution_count": 2,
      "metadata": {
        "id": "g1oaNkryLgAk"
      },
      "outputs": [],
      "source": [
        "# Here, importing some important libraries\n",
        "\n",
        "import numpy as np\n",
        "import matplotlib.pyplot as plt\n",
        "import torch\n",
        "import torchvision.datasets as datasets\n",
        "import copy\n",
        "from PIL import Image\n",
        "from PIL import ImageEnhance\n",
        "from PIL import ImageChops"
      ]
    },
    {
      "cell_type": "markdown",
      "metadata": {
        "id": "Mnx6DPqqLgAk"
      },
      "source": [
        "If  the cell above executed without issues, you can continue. Otherwise, check your Python, Numpy, PyTorch, Matplotlib, and Pillow installations."
      ]
    },
    {
      "cell_type": "markdown",
      "metadata": {
        "id": "HFsk3XjkLgAl"
      },
      "source": [
        "### 1.0. Quick Python and PyTorch test"
      ]
    },
    {
      "cell_type": "code",
      "execution_count": 3,
      "metadata": {
        "id": "Ksl0CztfLgAl",
        "outputId": "31ac567e-2ec3-44d2-d899-0d38c571e80c",
        "colab": {
          "base_uri": "https://localhost:8080/",
          "height": 0
        }
      },
      "outputs": [
        {
          "output_type": "stream",
          "name": "stdout",
          "text": [
            "Python is working\n",
            "Torch is working\n"
          ]
        }
      ],
      "source": [
        "# YOUR CODE STARTS HERE\n",
        "test= \"Python is working\"\n",
        "print(test)\n",
        "\n",
        "test = torch.rand(5, 3)\n",
        "if(test is not None):\n",
        "    print(\"Torch is working\")\n",
        "# YOUR CODE ENDS HERE"
      ]
    },
    {
      "cell_type": "markdown",
      "metadata": {
        "id": "iK43IQs_LgAm"
      },
      "source": [
        "### 1.1 - Building sigmoid function with Numpy with np.exp()  (Points 3)\n",
        "\n",
        "Build a function that returns the sigmoid of a numpy real vector or matrix $x$.\n",
        "\n",
        "**Reminder**:\n",
        "$sigmoid(x) = \\frac{1}{1+e^{-x}}$\n",
        "\n",
        "This function is sometimes also known as the logistic function. It is a non-linear function used not only in Machine Learning (Logistic Regression), but also in Deep Learning."
      ]
    },
    {
      "cell_type": "code",
      "execution_count": 4,
      "metadata": {
        "id": "QMHBqlD5LgAm"
      },
      "outputs": [],
      "source": [
        "def sigmoid(x):\n",
        "    \"\"\"\n",
        "    Compute sigmoid of x.\n",
        "\n",
        "    Arguments:\n",
        "    x -- A scalar or numpy vector or matrix\n",
        "\n",
        "    Return:\n",
        "    s -- sigmoid(x)\n",
        "    \"\"\"\n",
        "\n",
        "    # YOUR CODE STARTS HERE\n",
        "\n",
        "    s=1/(1 + np.exp(-x))  ##Here, the sigmoid activation function is implemented i.e. 1/1+e^-x, the output of sigmoid function is stored in variable s.\n",
        "\n",
        "    # YOUR CODE ENDS HERE\n",
        "\n",
        "    return s"
      ]
    },
    {
      "cell_type": "code",
      "execution_count": 5,
      "metadata": {
        "id": "kky0hK5GLgAm",
        "outputId": "9aa9d7ed-191b-4ce2-bcb3-b7780dd02d66",
        "colab": {
          "base_uri": "https://localhost:8080/",
          "height": 0
        }
      },
      "outputs": [
        {
          "output_type": "stream",
          "name": "stdout",
          "text": [
            "sigmoid([1]) = [0.73105858]\n",
            "Test passed\n"
          ]
        }
      ],
      "source": [
        "# Create numpy array\n",
        "a = np.array([1])\n",
        "\n",
        "print(\"sigmoid([1]) = \" + str(sigmoid(a))) ###Here, calling the sigmoid function.\n",
        "\n",
        "if(sigmoid(a)[0] ==  0.7310585786300049):\n",
        "    print(\"Test passed\")"
      ]
    },
    {
      "cell_type": "markdown",
      "metadata": {
        "id": "iqdYcOoaLgAn"
      },
      "source": [
        "### 1.2- Build Sigmoid Gradient (Points 3)\n",
        "Computing gradients is an important step in backpropagation. In this exercise, you will compute the gradient (i.e., derivative) of the sigmoid function.\n",
        "\n",
        "**Recall**\n",
        "$$sigmoid\\_derivative(x) = \\sigma'(x) = \\sigma(x) (1 - \\sigma(x))\\tag{2}$$"
      ]
    },
    {
      "cell_type": "code",
      "execution_count": 6,
      "metadata": {
        "id": "C4apZJ0MLgAn"
      },
      "outputs": [],
      "source": [
        "def sigmoid_gradient(x):\n",
        "    \"\"\"\n",
        "    Compute the gradient (also called the slope or derivative) of the sigmoid function with respect to its input x.\n",
        "\n",
        "    Arguments:\n",
        "    x -- A scalar or numpy array\n",
        "\n",
        "    Return:\n",
        "    ds -- Your computed gradient.\n",
        "    \"\"\"\n",
        "\n",
        "\n",
        "    # YOUR CODE STARTS HERE\n",
        "\n",
        "    ds=sigmoid(x)*(1-sigmoid(x)) ##Here, the derivative of the sigmoid function is computed w.r.t input x, which is stored in ds variable.\n",
        "\n",
        "    # YOUR CODE ENDS HERE\n",
        "\n",
        "    return ds"
      ]
    },
    {
      "cell_type": "code",
      "execution_count": 7,
      "metadata": {
        "id": "6SzvngnoLgAn",
        "outputId": "ec82624f-2d0c-49cb-d1eb-5d5122c50a05",
        "colab": {
          "base_uri": "https://localhost:8080/",
          "height": 0
        }
      },
      "outputs": [
        {
          "output_type": "stream",
          "name": "stdout",
          "text": [
            "sigmoid_gradient(a) = [0.19661193 0.10499359 0.04517666]\n",
            "Test passed\n"
          ]
        }
      ],
      "source": [
        "a = np.array([1, 2, 3])\n",
        "print (\"sigmoid_gradient(a) = \" + str(sigmoid_gradient(a))) ####Here, calling the sigmoid_gradient function with three values.\n",
        "\n",
        "if (np.array_equiv(np.round(sigmoid_gradient(a),8), np.array([0.19661193, 0.10499359, 0.04517666]))) :\n",
        "    print(\"Test passed\")"
      ]
    },
    {
      "cell_type": "markdown",
      "metadata": {
        "id": "Ftti0s7pLgAn"
      },
      "source": [
        "### 1.3- Vectorize Image (Points 4)\n",
        "\n",
        "Implement `image2vector()` that takes an input of shape (length, height, depth) and returns a vector of shape (length\\*height\\*depth, 1).\n",
        "- Don't hardcode the dimensions of image as a constant. Instead look up the quantities you need with `image.shape[0]`, etc."
      ]
    },
    {
      "cell_type": "code",
      "execution_count": 8,
      "metadata": {
        "id": "HOl9ec39LgAn"
      },
      "outputs": [],
      "source": [
        "def image2vector(image):\n",
        "    \"\"\"\n",
        "    Argument:\n",
        "    image -- a numpy array of shape (length, height, depth)\n",
        "\n",
        "    Returns:\n",
        "    v -- a vector of shape (length*height*depth, 1)\n",
        "    \"\"\"\n",
        "\n",
        "    # YOUR CODE STARTS HERE\n",
        "\n",
        "    length=image.shape[0] ###Here, getting the lenght of the input using .shape[0].\n",
        "    height=image.shape[1] ###Here, getting the heigth of the input using .shape[1].\n",
        "    depth =image.shape[2] ###Here, getting the depth of the input using .shape[2].\n",
        "    v = image.reshape((length * height * depth, 1)) ###Here, reshapping the input to the required form of single dimension array.\n",
        "\n",
        "    # YOUR CODE ENDS HERE\n",
        "\n",
        "    return v"
      ]
    },
    {
      "cell_type": "code",
      "execution_count": 48,
      "metadata": {
        "id": "Ic3gNRKGLgAo",
        "outputId": "4b527037-9037-4abd-d6b9-c1cf96c685f1",
        "colab": {
          "base_uri": "https://localhost:8080/"
        }
      },
      "outputs": [
        {
          "output_type": "stream",
          "name": "stdout",
          "text": [
            "Test passed\n",
            "The shape is:  (18, 1)\n"
          ]
        }
      ],
      "source": [
        "# Test\n",
        "a_image = np.array([[[ 0.67826139,  0.29380381],\n",
        "                     [ 0.90714982,  0.52835647],\n",
        "                     [ 0.4215251 ,  0.45017551]],\n",
        "\n",
        "                   [[ 0.92814219,  0.96677647],\n",
        "                    [ 0.85304703,  0.52351845],\n",
        "                    [ 0.19981397,  0.27417313]],\n",
        "\n",
        "                   [[ 0.60659855,  0.00533165],\n",
        "                    [ 0.10820313,  0.49978937],\n",
        "                    [ 0.34144279,  0.94630077]]]) ##The input\n",
        "\n",
        "\n",
        "vec_arr = image2vector(a_image) ##Here, calling the function with the input to get into the required form.\n",
        "\n",
        "if (vec_arr[0]==0.67826139) & (vec_arr[6]==0.92814219) & (vec_arr[17]==0.94630077) & (vec_arr.shape[0]==18):\n",
        "    print(\"Test passed\")\n",
        "print(\"The shape is: \", vec_arr.shape)"
      ]
    },
    {
      "cell_type": "markdown",
      "metadata": {
        "id": "ek0d4udWLgAo"
      },
      "source": [
        "### 1.4 Implement the L1 and L2 loss functions (Points 5)\n",
        "\n",
        "**Reminder**:\n",
        "- The loss is used to evaluate the performance of your model. The bigger your loss is, the more different your predictions ($ \\hat{y} $) are from the true values ($y$). In deep learning, you use optimization algorithms like Gradient Descent to train your model and to minimize the cost.\n",
        "- L1 loss is defined as:\n",
        "$$\\begin{align*} & L_1(\\hat{y}, y) = \\sum_{i=0}^{m-1}|y^{(i)} - \\hat{y}^{(i)}| \\end{align*}\\tag{6}$$\n",
        "- L2 loss is defined as $$\\begin{align*} & L_2(\\hat{y},y) = \\sum_{i=0}^{m-1}(y^{(i)} - \\hat{y}^{(i)})^2 \\end{align*}\\tag{7}$$"
      ]
    },
    {
      "cell_type": "code",
      "execution_count": 10,
      "metadata": {
        "id": "Dg2KVhtiLgAo"
      },
      "outputs": [],
      "source": [
        "def L1(yhat, y):\n",
        "    \"\"\"\n",
        "    Arguments:\n",
        "    yhat -- vector of size m (predicted labels)\n",
        "    y -- vector of size m (true labels)\n",
        "\n",
        "    Returns:\n",
        "    loss -- the value of the L1 loss function defined above\n",
        "    \"\"\"\n",
        "\n",
        "    #(≈ 1 line of code)\n",
        "\n",
        "    # YOUR CODE STARTS HERE\n",
        "\n",
        "    loss = np.sum(np.abs(y-yhat)) ##Here, the L1 loss is computed as given in the equation, which is assigned to the loss variable. #np.abs is used to get absolute value\n",
        "\n",
        "    # YOUR CODE ENDS HERE\n",
        "\n",
        "    return loss\n",
        "\n",
        "def L2(yhat, y):\n",
        "    \"\"\"\n",
        "    Arguments:\n",
        "    yhat -- vector of size m (predicted labels)\n",
        "    y -- vector of size m (true labels)\n",
        "\n",
        "    Returns:\n",
        "    loss -- the value of the L2 loss function defined above\n",
        "    \"\"\"\n",
        "\n",
        "    #(≈ 1 line of code)\n",
        "    # loss = ...\n",
        "\n",
        "    # YOUR CODE STARTS HERE\n",
        "\n",
        "    loss = np.sum(pow((y-yhat), 2)) ##Here, the L2 loss is computed as given in the equation, which is assigned to the loss variable. \"pow() is used to compute power\"\n",
        "\n",
        "    # YOUR CODE ENDS HERE\n",
        "\n",
        "    return loss"
      ]
    },
    {
      "cell_type": "code",
      "execution_count": 11,
      "metadata": {
        "id": "Ea2Gv_QfLgAq",
        "outputId": "462ba320-621c-4253-a6c6-63b4a0e47f31",
        "colab": {
          "base_uri": "https://localhost:8080/",
          "height": 0
        }
      },
      "outputs": [
        {
          "output_type": "stream",
          "name": "stdout",
          "text": [
            "Test passed\n"
          ]
        }
      ],
      "source": [
        "yhat = np.array([.9, 0.2, 0.1, .4, .9]) ##The predicted labels\n",
        "y = np.array([1, 0, 0, 1, 1]) ##The actual labels\n",
        "\n",
        "\n",
        "##comparrison to match the outputs\n",
        "if (round(L1(yhat, y),5)==1.10000) & (round(L2(yhat, y),5)==0.43000):\n",
        "    print(\"Test passed\")"
      ]
    },
    {
      "cell_type": "markdown",
      "metadata": {
        "id": "0eMi5bclLgAq"
      },
      "source": [
        "### 1.5 - Normalizing rows (Points 5)\n",
        "\n",
        "Another common technique we use in Machine Learning and Deep Learning is to normalize our data. It often leads to a better performance because gradient descent converges faster after normalization. Here, by normalization we mean changing x to $ \\frac{x}{\\| x\\|} $ (dividing each row vector of x by its norm).\n",
        "\n",
        "For example, if\n",
        "$$x = \\begin{bmatrix}\n",
        "        0 & 3 & 4 \\\\\n",
        "        2 & 6 & 4 \\\\\n",
        "\\end{bmatrix}\\tag{3}$$\n",
        "then\n",
        "$$\\| x\\| = \\text{np.linalg.norm(x, axis=1, keepdims=True)} = \\begin{bmatrix}\n",
        "    5 \\\\\n",
        "    \\sqrt{56} \\\\\n",
        "\\end{bmatrix}\\tag{4} $$\n",
        "and\n",
        "$$ x\\_normalized = \\frac{x}{\\| x\\|} = \\begin{bmatrix}\n",
        "    0 & \\frac{3}{5} & \\frac{4}{5} \\\\\n",
        "    \\frac{2}{\\sqrt{56}} & \\frac{6}{\\sqrt{56}} & \\frac{4}{\\sqrt{56}} \\\\\n",
        "\\end{bmatrix}\\tag{5}$$\n",
        "\n",
        "\n",
        "With `keepdims=True` the result will broadcast correctly against the original x.\n",
        "\n",
        "`axis=1` means you are going to get the norm in a row-wise manner. If you need the norm in a column-wise way, you would need to set `axis=0`.\n",
        "\n",
        "numpy.linalg.norm has another parameter `ord` where we specify the type of normalization to be done (in the exercise below you'll do 2-norm). To get familiar with the types of normalization you can visit [numpy.linalg.norm](https://numpy.org/doc/stable/reference/generated/numpy.linalg.norm.html)\n",
        "\n",
        "\\\n",
        "\\\n",
        "**Implement normalize_rows**\n",
        "\n",
        "Implement normalizeRows() to normalize the rows of a matrix. After applying this function to an input matrix x, each row of x should be a vector of unit length (meaning length 1)."
      ]
    },
    {
      "cell_type": "code",
      "execution_count": 12,
      "metadata": {
        "id": "38D9klGGLgAq"
      },
      "outputs": [],
      "source": [
        "def normalize_rows(x):\n",
        "    \"\"\"\n",
        "    Implement a function that normalizes each row of the matrix x (to have unit length).\n",
        "\n",
        "    Argument:\n",
        "    x -- A numpy matrix of shape (n, m)\n",
        "\n",
        "    Returns:\n",
        "    x -- The normalized (by row) numpy matrix.\n",
        "    \"\"\"\n",
        "\n",
        "    # YOUR CODE STARTS HERE\n",
        "\n",
        "    row_norms = np.linalg.norm(x, axis=1, keepdims=True)  ###Here, calculation of the Euclidean norm along the second axis (axis=1), resulting in an array of norms corresponding to each row of x.\n",
        "\n",
        "    x = x / row_norms  ### Here, dividing each row vector of x by its norms\n",
        "\n",
        "    # YOUR CODE ENDS HERE\n",
        "\n",
        "    return x"
      ]
    },
    {
      "cell_type": "code",
      "execution_count": 52,
      "metadata": {
        "id": "QDcUFRCZLgAq",
        "outputId": "fad4b852-e184-4f7a-c20c-f7d8162c4472",
        "colab": {
          "base_uri": "https://localhost:8080/"
        }
      },
      "outputs": [
        {
          "output_type": "stream",
          "name": "stdout",
          "text": [
            "normalizeRows(x) = [[0.      0.39392 0.91915]\n",
            " [0.1543  0.77152 0.61721]]\n",
            "Test Passed\n"
          ]
        }
      ],
      "source": [
        "x = np.array([[0., 3., 7.],\n",
        "              [1., 5., 4.]])\n",
        "x_norm = np.round(normalize_rows(x), 5)\n",
        "x_norm_true = np.round(np.array([[0., 0.3939193, 0.91914503],\n",
        "                        [0.15430335, 0.77151675, 0.6172134 ]]), 5)\n",
        "print(\"normalizeRows(x) = \" + str(x_norm))\n",
        "\n",
        "if((x_norm_true==x_norm).all()):\n",
        "    print(\"Test Passed\")\n"
      ]
    },
    {
      "cell_type": "markdown",
      "metadata": {
        "id": "qe0uF3BILgAr"
      },
      "source": [
        "## 2. Logistic Regression Model with NN Mindset (Points 50)\n",
        "\n",
        "You will build a binary classification model using the logistic regression technique discussed in class. The model will discriminate the handwritten numbers zero and one from the MNIST dataset.\n",
        "\n",
        "**Instructions**\n",
        "- Download the MNIST dataset using the provided functions.\n",
        "    - You will need to install PyTorch and Torchvision for the data loading functions to work.\n",
        "    - The data loader functions will load the dataset to your local jupyter notebook root folder.\n",
        "    - Make sure you have write permissions.\n",
        "- You will build the following functions\n",
        "    - Sigmoid function (Completed above)\n",
        "    - Sigmoid derivative (Completed above)\n",
        "    - Parameter initialization\n",
        "    - Cost and gradient computations\n",
        "    - Optimization\n",
        "    - Model (integrates all the functions above)\n",
        "    - Use the learned parameters to predict labels on test data\n",
        "- Experiment with learning rates\n",
        "- Analyze results"
      ]
    },
    {
      "cell_type": "markdown",
      "metadata": {
        "id": "E1sihEsXLgAr"
      },
      "source": [
        "### 2.0 Load dataset [DO NOT CHANGE]\n",
        "\n",
        "This code uses PyTorch torch and torchvision libraries to download the dataset from the web to your computer and then load the train and testing datasets to memory in the desired shape. Please do not change this code in anyway, because it can break the code  generated by the instructor.\n",
        "\n",
        "It will be good to look into a PyTorch tutorial to learn more about these functions.\n",
        "See link : https://pytorch.org/tutorials/beginner/basics/intro.html\n",
        "\n",
        "The cell below will display one image example to ensure proper function of the code."
      ]
    },
    {
      "cell_type": "code",
      "execution_count": 14,
      "metadata": {
        "id": "nTNTQPfULgAr",
        "outputId": "a3ecbf67-2728-40e6-d8bc-44a7b8f0d451",
        "colab": {
          "base_uri": "https://localhost:8080/",
          "height": 805
        }
      },
      "outputs": [
        {
          "output_type": "stream",
          "name": "stdout",
          "text": [
            "Downloading http://yann.lecun.com/exdb/mnist/train-images-idx3-ubyte.gz\n",
            "Downloading http://yann.lecun.com/exdb/mnist/train-images-idx3-ubyte.gz to ./data/MNIST/raw/train-images-idx3-ubyte.gz\n"
          ]
        },
        {
          "output_type": "stream",
          "name": "stderr",
          "text": [
            "100%|██████████| 9912422/9912422 [00:00<00:00, 273546011.82it/s]"
          ]
        },
        {
          "output_type": "stream",
          "name": "stdout",
          "text": [
            "Extracting ./data/MNIST/raw/train-images-idx3-ubyte.gz to ./data/MNIST/raw\n"
          ]
        },
        {
          "output_type": "stream",
          "name": "stderr",
          "text": [
            "\n"
          ]
        },
        {
          "output_type": "stream",
          "name": "stdout",
          "text": [
            "\n",
            "Downloading http://yann.lecun.com/exdb/mnist/train-labels-idx1-ubyte.gz\n",
            "Downloading http://yann.lecun.com/exdb/mnist/train-labels-idx1-ubyte.gz to ./data/MNIST/raw/train-labels-idx1-ubyte.gz\n"
          ]
        },
        {
          "output_type": "stream",
          "name": "stderr",
          "text": [
            "100%|██████████| 28881/28881 [00:00<00:00, 28705140.72it/s]\n"
          ]
        },
        {
          "output_type": "stream",
          "name": "stdout",
          "text": [
            "Extracting ./data/MNIST/raw/train-labels-idx1-ubyte.gz to ./data/MNIST/raw\n",
            "\n",
            "Downloading http://yann.lecun.com/exdb/mnist/t10k-images-idx3-ubyte.gz\n",
            "Downloading http://yann.lecun.com/exdb/mnist/t10k-images-idx3-ubyte.gz to ./data/MNIST/raw/t10k-images-idx3-ubyte.gz\n"
          ]
        },
        {
          "output_type": "stream",
          "name": "stderr",
          "text": [
            "100%|██████████| 1648877/1648877 [00:00<00:00, 136494264.56it/s]"
          ]
        },
        {
          "output_type": "stream",
          "name": "stdout",
          "text": [
            "Extracting ./data/MNIST/raw/t10k-images-idx3-ubyte.gz to ./data/MNIST/raw\n",
            "\n",
            "Downloading http://yann.lecun.com/exdb/mnist/t10k-labels-idx1-ubyte.gz\n"
          ]
        },
        {
          "output_type": "stream",
          "name": "stderr",
          "text": [
            "\n"
          ]
        },
        {
          "output_type": "stream",
          "name": "stdout",
          "text": [
            "Downloading http://yann.lecun.com/exdb/mnist/t10k-labels-idx1-ubyte.gz to ./data/MNIST/raw/t10k-labels-idx1-ubyte.gz\n"
          ]
        },
        {
          "output_type": "stream",
          "name": "stderr",
          "text": [
            "100%|██████████| 4542/4542 [00:00<00:00, 13824766.89it/s]\n"
          ]
        },
        {
          "output_type": "stream",
          "name": "stdout",
          "text": [
            "Extracting ./data/MNIST/raw/t10k-labels-idx1-ubyte.gz to ./data/MNIST/raw\n",
            "\n",
            "Label y = [0]. This is handwritten \"0 - zero\" picture.\n"
          ]
        },
        {
          "output_type": "display_data",
          "data": {
            "text/plain": [
              "<Figure size 640x480 with 1 Axes>"
            ],
            "image/png": "[encoded data removed]"
          },
          "metadata": {}
        }
      ],
      "source": [
        "# DO NOT CHANGE CODE BELOW\n",
        "#\n",
        "\n",
        "# Download dataset from PyTorch website\n",
        "data = datasets.MNIST(root='./data', train=True, download=True, transform=None)\n",
        "\n",
        "# Load train data to memory\n",
        "loader = torch.utils.data.DataLoader(data, batch_size=1)\n",
        "data_set_x_orig = (loader.dataset.data).numpy()\n",
        "data_set_y = (loader.dataset.targets).numpy().reshape(-1,1).T\n",
        "classes = loader.dataset.classes\n",
        "\n",
        "# Leave 1s and 0s on dataset\n",
        "I1 = (data_set_y < 2)\n",
        "data_set_x_orig = data_set_x_orig[I1.reshape(-1), :, :]\n",
        "data_set_y = (data_set_y[I1].reshape(-1,1).T)\n",
        "\n",
        "\n",
        "#Let's split training set in training and test set\n",
        "mm = int(0.5*data_set_x_orig.shape[0])\n",
        "train_set_x_orig = data_set_x_orig[:mm, :, :]\n",
        "train_set_y = data_set_y[:,:mm]\n",
        "test_set_x_orig = data_set_x_orig[mm+1:, :, :]\n",
        "test_set_y = data_set_y[:,mm+1:]\n",
        "\n",
        "\n",
        "#Display example of picture\n",
        "index = 0\n",
        "x = train_set_x_orig[index]\n",
        "y = train_set_y[:, index]\n",
        "c = classes[int(y.item())]\n",
        "plt.imshow(train_set_x_orig[index])\n",
        "print (\"Label y = \" + str(y) + \". This is handwritten \\\"\" + c +  \"\\\" picture.\")\n",
        "\n",
        "#\n",
        "# DO NOT CHANGE CODE ABOVE"
      ]
    },
    {
      "cell_type": "markdown",
      "metadata": {
        "id": "P6e3hKNILgAr"
      },
      "source": [
        "### 2.1 Print dimensions of data arrays (Points 3)\n",
        "Find the values for:\n",
        "- m_train (number of training examples)\n",
        "- m_test (number of test examples)\n",
        "- num_px (= height = width of a training image)\n",
        "\n",
        "Remember that `train_set_x_orig` is a numpy-array of shape (m_train, num_px, num_px, depth). For instance, you can access `m_train` by writing `train_set_x_orig.shape[0]`. For this experiment, we are working with grayscale images. So, depth is 1."
      ]
    },
    {
      "cell_type": "code",
      "execution_count": 15,
      "metadata": {
        "id": "ROHG6iaPLgAr",
        "outputId": "422c771c-b234-4bca-bbc7-b5bbfd71e10c",
        "colab": {
          "base_uri": "https://localhost:8080/",
          "height": 0
        }
      },
      "outputs": [
        {
          "output_type": "stream",
          "name": "stdout",
          "text": [
            "Number of training examples: m_train = 6332\n",
            "Number of testing examples: m_test = 6332\n",
            "Height/Width of each image: num_px = 28\n",
            "Each image is of size: (28, 28, 1)\n",
            "train_set_x shape: (6332, 28, 28)\n",
            "train_set_y shape: (1, 6332)\n",
            "test_set_x shape: (6332, 28, 28)\n",
            "test_set_y shape: (1, 6332)\n"
          ]
        }
      ],
      "source": [
        "#################################\n",
        "# Data arrays\n",
        "#   - train_set_x_orig\n",
        "#   - train_set_y\n",
        "#   - test_set_x_orig\n",
        "#   - test_set_y\n",
        "#################################\n",
        "\n",
        "# YOUR CODE STARTS HERE\n",
        "\n",
        "m_train=train_set_x_orig.shape[0] ## number of training examples\n",
        "m_test=test_set_x_orig.shape[0]  ## number of testing examples\n",
        "num_px=train_set_x_orig.shape[1]  ## width of training examples\n",
        "\n",
        "# YOUR CODE ENDS HERE\n",
        "\n",
        "print (\"Number of training examples: m_train = \" + str(m_train))\n",
        "print (\"Number of testing examples: m_test = \" + str(m_test))\n",
        "print (\"Height/Width of each image: num_px = \" + str(num_px))\n",
        "print (\"Each image is of size: (\" + str(num_px) + \", \" + str(num_px) + \", 1)\")\n",
        "print (\"train_set_x shape: \" + str(train_set_x_orig.shape))\n",
        "print (\"train_set_y shape: \" + str(train_set_y.shape))\n",
        "print (\"test_set_x shape: \" + str(test_set_x_orig.shape))\n",
        "print (\"test_set_y shape: \" + str(test_set_y.shape))"
      ]
    },
    {
      "cell_type": "markdown",
      "metadata": {
        "id": "lyfsoqCaLgAs"
      },
      "source": [
        "Before proceeding ensure:\n",
        "- Number of training samples: 6332\n",
        "- Number of test samples: 6332\n",
        "- Size of images: 28 x 28 x 1"
      ]
    },
    {
      "cell_type": "markdown",
      "metadata": {
        "id": "KvJn21hTLgAs"
      },
      "source": [
        "### 2.2 Flatten input images (matrices) (Points 2)\n",
        "As discussed in class, we need to flatten input matrices before ingesting them into our model. In this exercise you will perform that operation.\n",
        "\n",
        "Reshape the training and test data sets so that images of size (num_px, num_px, 1) are flattened into single vectors of shape (num\\_px $*$ num\\_px $*$ 1, 1).\n",
        "\n",
        "A trick when you want to flatten a matrix X of shape (a,b,c,d) to a matrix X_flatten of shape (b$*$c$*$d, a) is to use:\n",
        "```python\n",
        "X_flatten = X.reshape(X.shape[0], -1).T      # X.T is the transpose of X\n",
        "```"
      ]
    },
    {
      "cell_type": "code",
      "execution_count": 16,
      "metadata": {
        "id": "-GC32EgILgAs",
        "outputId": "f305d4a4-0a13-4022-d31a-4a043cddf567",
        "colab": {
          "base_uri": "https://localhost:8080/",
          "height": 0
        }
      },
      "outputs": [
        {
          "output_type": "stream",
          "name": "stdout",
          "text": [
            "train_set_x_flatten shape: (784, 6332)\n",
            "train_set_y shape: (1, 6332)\n",
            "test_set_x_flatten shape: (784, 6332)\n",
            "test_set_y shape: (1, 6332)\n"
          ]
        }
      ],
      "source": [
        "# Reshape the training and test examples\n",
        "# train_set_x_flatten = ...\n",
        "# test_set_x_flatten = ...\n",
        "\n",
        "# YOUR CODE STARTS HERE\n",
        "\n",
        "train_set_x_flatten = train_set_x_orig.reshape(train_set_x_orig.shape[0], -1).T  ## Reshaping the training sets such as flattened into single vectors of shape (num_px  ∗  num_px  ∗  1, 1)\n",
        "test_set_x_flatten = test_set_x_orig.reshape(test_set_x_orig.shape[0], -1).T  ## Reshaping the testing sets such as flattened into single vectors of shape (num_px  ∗  num_px  ∗  1, 1)\n",
        "\n",
        "# YOUR CODE ENDS HERE\n",
        "\n",
        "print (\"train_set_x_flatten shape: \" + str(train_set_x_flatten.shape))\n",
        "print (\"train_set_y shape: \" + str(train_set_y.shape))\n",
        "print (\"test_set_x_flatten shape: \" + str(test_set_x_flatten.shape))\n",
        "print (\"test_set_y shape: \" + str(test_set_y.shape))"
      ]
    },
    {
      "cell_type": "markdown",
      "metadata": {
        "id": "Ho4eR6x9LgAs"
      },
      "source": [
        "**Expected Output**:\n",
        "\n",
        "<table style=\"width:35%\">\n",
        "  <tr>\n",
        "    <td>train_set_x_flatten shape</td>\n",
        "    <td> (784, 6332) </td>\n",
        "  </tr>\n",
        "  <tr>\n",
        "    <td>train_set_y shape</td>\n",
        "    <td>(1, 6332)</td>\n",
        "  </tr>\n",
        "  <tr>\n",
        "    <td>test_set_x_flatten shape</td>\n",
        "    <td>(784, 6332)</td>\n",
        "  </tr>\n",
        "  <tr>\n",
        "    <td>test_set_y shape</td>\n",
        "    <td>(1, 6332)</td>\n",
        "  </tr>\n",
        "</table>"
      ]
    },
    {
      "cell_type": "markdown",
      "metadata": {
        "id": "VpjVIlIjLgAs"
      },
      "source": [
        "### 2.3 Standardize input values (Points 3)\n",
        "\n",
        "A critical step in machine learning is to standardize the inputs. This helps with quick convergence of the model's training cost.\n",
        "\n",
        "RGB images (as the input in this dataset) have pixel integer values from 0-255. We will normalize these values to the floating point range of 0.-1.\n",
        "\n",
        "Write code to standardize the flatten dataset from 0-255 to 0.-1 (float).\n",
        "\n",
        "We will later learn in the class other techniques to standardize our datasets."
      ]
    },
    {
      "cell_type": "code",
      "execution_count": 17,
      "metadata": {
        "id": "v5HeF7FNLgAt"
      },
      "outputs": [],
      "source": [
        "#####\n",
        "# Standardize train_set_x_flatten and test_set_x_flatten into...\n",
        "# train_set_x = ...\n",
        "# test_set_x = ...\n",
        "\n",
        "# YOUR CODE STARTS HERE\n",
        "\n",
        "train_set_x = train_set_x_flatten / 255.0   ##normalizing training set values to the floating point range of 0.-1\n",
        "test_set_x = test_set_x_flatten / 255.0     ##normalizing testing set values to the floating point range of 0.-1\n",
        "\n",
        "# YOUR CODE ENDS HERE"
      ]
    },
    {
      "cell_type": "markdown",
      "metadata": {
        "id": "NwyUpllOLgAt"
      },
      "source": [
        "### 2.4 Sigmoid function and its derivative\n",
        "We already implemented the sigmoid function and its derivative in part 1 of this homework.\n",
        "\n",
        "Below is a simple test to ensure the functions are defined and working properly. Guess what, we only need the sigmoid function to update our parameters."
      ]
    },
    {
      "cell_type": "code",
      "execution_count": 18,
      "metadata": {
        "id": "g1w4vvdILgAt",
        "outputId": "e08b9f54-2744-4655-ffeb-34dcc223d9bd",
        "colab": {
          "base_uri": "https://localhost:8080/",
          "height": 0
        }
      },
      "outputs": [
        {
          "output_type": "stream",
          "name": "stdout",
          "text": [
            "sigmoid([0,2]) = [0.5    0.8808]\n",
            "Test passed\n"
          ]
        }
      ],
      "source": [
        "# Create numpy array\n",
        "a = np.round(np.array([0,2]), 5)\n",
        "b = np.round(sigmoid(a), 5)\n",
        "\n",
        "print(\"sigmoid([0,2]) = \" + str(b))\n",
        "\n",
        "if((b==np.array([0.5, 0.8808])).all()):\n",
        "    print(\"Test passed\")"
      ]
    },
    {
      "cell_type": "markdown",
      "metadata": {
        "id": "jRnT_dHBLgAt"
      },
      "source": [
        "### 2.5 Initialize parameters function (Points 2)\n",
        "Implement parameter initialization in the cell below. You have to initialize w as a vector of zeros. If you don't know what numpy function to use, look up np.zeros() in the Numpy library's documentation."
      ]
    },
    {
      "cell_type": "code",
      "execution_count": 19,
      "metadata": {
        "id": "cuG6ibGdLgAt"
      },
      "outputs": [],
      "source": [
        "def initialize_with_zeros(dim):\n",
        "    \"\"\"\n",
        "    This function creates a vector of zeros of shape (dim, 1) for w and initializes b to 0.\n",
        "\n",
        "    Argument:\n",
        "    dim -- size of the w vector we want (or number of parameters in this case)\n",
        "\n",
        "    Returns:\n",
        "    w -- initialized vector of shape (dim, 1)\n",
        "    b -- initialized scalar (corresponds to the bias) of type float\n",
        "    \"\"\"\n",
        "\n",
        "    # (≈ 2 lines of code)\n",
        "\n",
        "    # YOUR CODE STARTS HERE\n",
        "\n",
        "    w = np.zeros((dim, 1))   ##wight (w) parameter initialization with a vector of zeros.\n",
        "    b = 0.\n",
        "\n",
        "    # YOUR CODE ENDS HERE\n",
        "\n",
        "    return w, b"
      ]
    },
    {
      "cell_type": "code",
      "execution_count": 20,
      "metadata": {
        "id": "53UfmoXILgAt",
        "outputId": "ef0258ac-89ce-4603-a6d9-7e4798a62664",
        "colab": {
          "base_uri": "https://localhost:8080/",
          "height": 0
        }
      },
      "outputs": [
        {
          "output_type": "stream",
          "name": "stdout",
          "text": [
            "w = [[0.]\n",
            " [0.]]\n",
            "b = 0.0\n",
            "Test passed\n"
          ]
        }
      ],
      "source": [
        "dim = 2\n",
        "w, b = initialize_with_zeros(dim)\n",
        "\n",
        "assert type(b) == float\n",
        "print (\"w = \" + str(w))\n",
        "print (\"b = \" + str(b))\n",
        "\n",
        "if((w==np.array([0., 0.])).all()):\n",
        "    print(\"Test passed\")"
      ]
    },
    {
      "cell_type": "markdown",
      "metadata": {
        "id": "HsOgFVQRLgA2"
      },
      "source": [
        "### 2.6 - Forward and Backward propagation (Points 20)\n",
        "\n",
        "Now that your parameters are initialized, you can do the \"forward\" and \"backward\" propagation steps for learning the parameters.\n",
        "\n",
        "Implement a function `propagate()` that computes the cost function and its gradient.\n",
        "\n",
        "**Hints**:\n",
        "\n",
        "Forward Propagation:\n",
        "- Input X, w, and b. The parameters w and b initialized with some arbitrary vector or number (e.g., vector of zeros or a zero).\n",
        "- You compute $A = \\sigma(w^T X + b) = (a^{(1)}, a^{(2)}, ..., a^{(m-1)}, a^{(m)})$\n",
        "- You calculate the cost function: $J = -\\frac{1}{m}\\sum_{i=1}^{m}(y^{(i)}\\log(a^{(i)})+(1-y^{(i)})\\log(1-a^{(i)}))$\n",
        "\n",
        "Here are the two formulas you will be using:\n",
        "\n",
        "$$ \\frac{\\partial J}{\\partial w} = \\frac{1}{m}X(A-Y)^T\\tag{7}$$\n",
        "$$ \\frac{\\partial J}{\\partial b} = \\frac{1}{m} \\sum_{i=1}^m (a^{(i)}-y^{(i)})\\tag{8}$$"
      ]
    },
    {
      "cell_type": "code",
      "execution_count": 21,
      "metadata": {
        "id": "NDcHg0kDLgA2"
      },
      "outputs": [],
      "source": [
        "# GRADED FUNCTION: propagate\n",
        "\n",
        "def propagate(w, b, X, Y):\n",
        "    \"\"\"\n",
        "    Implement the cost function and its gradient for the propagation explained above\n",
        "\n",
        "    Arguments:\n",
        "    w -- weights, a numpy array of size (num_px * num_px * 1, 1)\n",
        "    b -- bias, a scalar\n",
        "    X -- data of size (num_px * num_px * 1, number of examples)\n",
        "    Y -- true \"label\" vector (containing 0 if image number is zero, 1 if image number is one) of size (1, number of examples)\n",
        "\n",
        "    Return:\n",
        "    grads -- dictionary containing the gradients of the weights and bias\n",
        "            (dw -- gradient of the loss with respect to w, thus same shape as w)\n",
        "            (db -- gradient of the loss with respect to b, thus same shape as b)\n",
        "    cost -- negative log-likelihood cost for logistic regression\n",
        "\n",
        "    Tips:\n",
        "    - Write your code step by step for the propagation. np.log(), np.dot()\n",
        "    \"\"\"\n",
        "\n",
        "    m = float(X.shape[1])\n",
        "\n",
        "    # FORWARD PROPAGATION (FROM X TO COST)\n",
        "    # compute activation\n",
        "    # A = ...\n",
        "    # compute cost by using np.dot to perform multiplication.\n",
        "    # And don't use loops for the sum.\n",
        "    # cost = ...\n",
        "\n",
        "\n",
        "    # YOUR CODE STARTS HERE\n",
        "\n",
        "    A = 1 / (1 + np.exp(-(np.dot(w.T, X) + b))) ## Here, is the computation of A i.e. 1/1+e^-(wTx +b). (This is forward propagation)\n",
        "\n",
        "    cost = -1/m * np.sum(Y * np.log(A) + (1 - Y) * np.log(1 - A)) #logloss or Bnary cross entropy function (This is the cost function computation)\n",
        "\n",
        "    # YOUR CODE ENDS HERE\n",
        "\n",
        "    # BACKWARD PROPAGATION (TO FIND GRAD)\n",
        "    # dw = ...\n",
        "    # db = ...\n",
        "\n",
        "    # YOUR CODE STARTS HERE\n",
        "\n",
        "    dw = 1/m * np.dot(X, (A - Y).T)  ## Here is the derivation calculation of weight dw\n",
        "    db = 1/m * np.sum(A - Y)   ## Here is the derivation calculation of bias db\n",
        "\n",
        "    # YOUR CODE ENDS HERE\n",
        "\n",
        "    cost = np.squeeze(np.array(cost))\n",
        "\n",
        "\n",
        "    grads = {\"dw\": dw,\n",
        "             \"db\": db}\n",
        "\n",
        "    return grads, cost"
      ]
    },
    {
      "cell_type": "code",
      "execution_count": 22,
      "metadata": {
        "id": "ztybE1aCLgA2",
        "outputId": "ccc6ccdd-e8f9-41d6-e8b8-61c8cac4f9a5",
        "colab": {
          "base_uri": "https://localhost:8080/",
          "height": 0
        }
      },
      "outputs": [
        {
          "output_type": "stream",
          "name": "stdout",
          "text": [
            "dw = [[ 0.25072]\n",
            " [-0.06604]]\n",
            "db = -0.125\n",
            "cost = 0.15901\n",
            "Test passed.\n"
          ]
        }
      ],
      "source": [
        "w =  np.array([[1.], [2]])\n",
        "b = 1.5\n",
        "X = np.array([[1., -2., -1.], [3., 0.5, -3.2]])\n",
        "Y = np.array([[1, 1, 0]])\n",
        "grads, cost = propagate(w, b, X, Y)\n",
        "\n",
        "dw = np.round(grads[\"dw\"],5)\n",
        "db = np.round(grads[\"db\"],5)\n",
        "cost = np.round(cost,5)\n",
        "\n",
        "assert type(dw) == np.ndarray\n",
        "assert dw.shape == (2, 1)\n",
        "assert type(db) == np.float64\n",
        "\n",
        "print (\"dw = \" + str(dw))\n",
        "print (\"db = \" + str(db))\n",
        "print (\"cost = \" + str(cost))\n",
        "\n",
        "if( (dw==np.array([[0.25072],[-0.06604]])).all() & (db.item()==-0.125) & (cost==0.15901)):\n",
        "    print(\"Test passed.\")"
      ]
    },
    {
      "cell_type": "markdown",
      "metadata": {
        "id": "DzJBv-RDLgA3"
      },
      "source": [
        "### 2.7 - Optimization (Points 5)\n",
        "- You have initialized your parameters.\n",
        "- You are also able to compute a cost function and its gradient.\n",
        "- Now, you want to update the parameters using gradient descent.\n",
        "\n",
        "Write down the optimization function. The goal is to learn $w$ and $b$ by minimizing the cost function $J$. For a parameter $\\theta$, the update rule is $ \\theta = \\theta - \\alpha \\text{ } d\\theta$, where $\\alpha$ is the learning rate."
      ]
    },
    {
      "cell_type": "code",
      "execution_count": 23,
      "metadata": {
        "id": "quuVFelZLgA3"
      },
      "outputs": [],
      "source": [
        "def optimize(w, b, X, Y, num_iterations=100, learning_rate=0.009, print_cost=False):\n",
        "    \"\"\"\n",
        "    This function optimizes w and b by running a gradient descent algorithm\n",
        "\n",
        "    Arguments:\n",
        "    w -- weights, a numpy array of size (num_px * num_px * 1, 1)\n",
        "    b -- bias, a scalar\n",
        "    X -- data of shape (num_px * num_px * 1, number of examples)\n",
        "    Y -- true \"label\" vector (containing 0 if non-cat, 1 if cat), of shape (1, number of examples)\n",
        "    num_iterations -- number of iterations of the optimization loop\n",
        "    learning_rate -- learning rate of the gradient descent update rule\n",
        "    print_cost -- True to print the loss every 100 steps\n",
        "\n",
        "    Returns:\n",
        "    params -- dictionary containing the weights w and bias b\n",
        "    grads -- dictionary containing the gradients of the weights and bias with respect to the cost function\n",
        "    costs -- list of all the costs computed during the optimization, this will be used to plot the learning curve.\n",
        "\n",
        "    Tips:\n",
        "    You basically need to write down two steps and iterate through them:\n",
        "        1) Calculate the cost and the gradient for the current parameters. Use propagate().\n",
        "        2) Update the parameters using gradient descent rule for w and b.\n",
        "    \"\"\"\n",
        "\n",
        "    w = copy.deepcopy(w)\n",
        "    b = copy.deepcopy(b)\n",
        "\n",
        "    costs = []\n",
        "\n",
        "    for i in range(num_iterations):\n",
        "\n",
        "\n",
        "        # Cost and gradient calculation\n",
        "        # grads, cost = ...\n",
        "        # YOUR CODE STARTS HERE\n",
        "\n",
        "        grads, cost = propagate(w, b, X, Y)  #calling the propagate function to get gradients (w and b) and cost\n",
        "\n",
        "        # YOUR CODE ENDS HERE\n",
        "\n",
        "        # Retrieve derivatives dw and db from grads\n",
        "        # YOUR CODE STARTS HERE\n",
        "\n",
        "        dw = grads[\"dw\"]\n",
        "        db = grads[\"db\"]\n",
        "\n",
        "        # YOUR CODE ENDS HERE\n",
        "\n",
        "        # update rule\n",
        "        # w = ...\n",
        "        # b = ...\n",
        "        # YOUR CODE STARTS HERE\n",
        "\n",
        "        w = w - learning_rate * dw   #Here is the updation of weight (w) parameter\n",
        "        b = b - learning_rate * db    #Here is the updation of bias (b) parameter\n",
        "\n",
        "        # YOUR CODE ENDS HERE\n",
        "\n",
        "        # Record the costs\n",
        "        if i % 100 == 0:\n",
        "            costs.append(cost)\n",
        "\n",
        "            # Print the cost every 100 training iterations\n",
        "            if print_cost:\n",
        "                print (\"Cost after iteration %i: %f\" %(i, cost))\n",
        "\n",
        "    params = {\"w\": w,\n",
        "              \"b\": b}\n",
        "\n",
        "    grads = {\"dw\": dw,\n",
        "             \"db\": db}\n",
        "\n",
        "    return params, grads, costs"
      ]
    },
    {
      "cell_type": "code",
      "execution_count": 24,
      "metadata": {
        "id": "VVYoKXrhLgA3",
        "outputId": "a4aaa263-ebae-42e2-e223-99676abb6ccb",
        "colab": {
          "base_uri": "https://localhost:8080/",
          "height": 0
        }
      },
      "outputs": [
        {
          "output_type": "stream",
          "name": "stdout",
          "text": [
            "w = [[0.80956046]\n",
            " [2.0508202 ]]\n",
            "b = 1.5948713189708588\n",
            "dw = [[ 0.17860505]\n",
            " [-0.04840656]]\n",
            "db = -0.08888460336847771\n",
            "Costs = [array(0.15900538)]\n",
            "Test passed.\n"
          ]
        }
      ],
      "source": [
        "###########################\n",
        "# DO NOT CHANGE\n",
        "\n",
        "w =  np.array([[1.], [2]])\n",
        "b = 1.5\n",
        "X = np.array([[1., -2., -1.], [3., 0.5, -3.2]])\n",
        "Y = np.array([[1, 1, 0]])\n",
        "params, grads, costs = optimize(w, b, X, Y, num_iterations=100, learning_rate=0.009, print_cost=False)\n",
        "\n",
        "print (\"w = \" + str(params[\"w\"]))\n",
        "print (\"b = \" + str(params[\"b\"]))\n",
        "print (\"dw = \" + str(grads[\"dw\"]))\n",
        "print (\"db = \" + str(grads[\"db\"]))\n",
        "print(\"Costs = \" + str(costs))\n",
        "\n",
        "#checking first element of each variable only\n",
        "if ((np.round(params[\"w\"][0].item(),5)==0.80956) and\n",
        "    (np.round(params[\"b\"].item(),5)==1.59487) and\n",
        "    (np.round(grads[\"dw\"][0].item(),6)==0.178605) and\n",
        "    (np.round(grads[\"db\"].item(),5)==-0.08888) and\n",
        "    (np.round(costs[0].item(),4)==0.1590)):\n",
        "    print(\"Test passed.\")\n",
        "\n",
        "# DO NOT CHANGE\n",
        "###########################"
      ]
    },
    {
      "cell_type": "markdown",
      "metadata": {
        "id": "0a-yCAIeLgA3"
      },
      "source": [
        "### 2.8 Predict (Points 10)\n",
        "The **optimize** function will output the learned w and b. We are able to use w and b to predict the labels for a dataset X.\n",
        "\n",
        "#### 2.8.1 Implement the `predict_loop()` function. (Points 5)\n",
        "\n",
        "There are two steps to computing predictions:\n",
        "\n",
        "1. Calculate $\\hat{Y} = A = \\sigma(w^T X + b)$\n",
        "\n",
        "2. Convert the entries of a into 0 (if activation <= 0.5) or 1 (if activation > 0.5), stores the predictions in a vector `Y_prediction`.\n",
        "\n",
        "This implementation will use a *for loop* to iterate over the predictions. In the next exercise you will vectorize `predict_loop()` for faster execution."
      ]
    },
    {
      "cell_type": "code",
      "execution_count": 25,
      "metadata": {
        "id": "INowtkSILgA3"
      },
      "outputs": [],
      "source": [
        "def predict_loop(w, b, X):\n",
        "    '''\n",
        "    Predict whether the label is 0 or 1 using learned logistic regression parameters (w, b)\n",
        "\n",
        "    Arguments:\n",
        "    w -- weights, a numpy array of size (num_px * num_px * 1, 1)\n",
        "    b -- bias, a scalar\n",
        "    X -- data of size (num_px * num_px * 1, number of examples)\n",
        "\n",
        "    Returns:\n",
        "    Y_prediction -- a numpy array (vector) containing all predictions (0/1) for the examples in X\n",
        "    '''\n",
        "\n",
        "    m = X.shape[1]\n",
        "    Y_prediction = np.zeros((1, m))\n",
        "    w = w.reshape(X.shape[0], 1)\n",
        "\n",
        "    # Compute vector \"A\" predicting the probabilities of a 1\n",
        "    # A = ...\n",
        "    # YOUR CODE STARTS HERE\n",
        "\n",
        "    A = 1 / (1 + np.exp(-(np.dot(w.T, X) + b))) # Sigmoid function for forward propagation\n",
        "\n",
        "    # YOUR CODE ENDS HERE\n",
        "\n",
        "    for i in range(A.shape[1]):\n",
        "      # Convert probabilities A[0,i] to actual predictions p[0,i]\n",
        "      #(≈ 4 lines of code)\n",
        "      # if A[0, i] > ____ :\n",
        "      #     Y_prediction[0,i] =\n",
        "      # else:\n",
        "      #     Y_prediction[0,i] =\n",
        "\n",
        "      # YOUR CODE STARTS HERE\n",
        "      if A[0, i] > 0.5:\n",
        "          Y_prediction[0, i] = 1\n",
        "      else:\n",
        "          Y_prediction[0, i] = 0\n",
        "\n",
        "      # YOUR CODE ENDS HERE\n",
        "\n",
        "    return Y_prediction"
      ]
    },
    {
      "cell_type": "code",
      "execution_count": 26,
      "metadata": {
        "id": "Emv1gvN8LgA4",
        "outputId": "3dd1487c-4e40-4b49-936e-0b0fd9011deb",
        "colab": {
          "base_uri": "https://localhost:8080/",
          "height": 0
        }
      },
      "outputs": [
        {
          "output_type": "stream",
          "name": "stdout",
          "text": [
            "predictions = [[1. 1. 0.]]\n",
            "Test passed.\n"
          ]
        }
      ],
      "source": [
        "##Setting weigths, bias, input data, predictions as input\n",
        "\n",
        "w = np.array([[0.1124579], [0.23106775]])\n",
        "b = -0.3\n",
        "X = np.array([[1., -1.1, -3.2],[1.2, 2., 0.1]])\n",
        "YHAT = predict_loop(w, b, X)\n",
        "print (\"predictions = \" + str(YHAT))\n",
        "if((YHAT==np.array([[1.,1.,0.]])).all()):\n",
        "   print(\"Test passed.\")\n"
      ]
    },
    {
      "cell_type": "markdown",
      "metadata": {
        "id": "OHfDlfZALgA4"
      },
      "source": [
        "#### 2.8.2 Implement the `predict()` function. (Points 5)\n",
        "\n",
        "It is the vectorized version of `predict_loop()`."
      ]
    },
    {
      "cell_type": "code",
      "execution_count": 27,
      "metadata": {
        "id": "dr4CdZ6bLgA4"
      },
      "outputs": [],
      "source": [
        "def predict(w, b, X):\n",
        "    '''\n",
        "    Predict whether the label is 0 or 1 using learned logistic regression parameters (w, b)\n",
        "\n",
        "    Arguments:\n",
        "    w -- weights, a numpy array of size (num_px * num_px * 1, 1)\n",
        "    b -- bias, a scalar\n",
        "    X -- data of size (num_px * num_px * 1, number of examples)\n",
        "\n",
        "    Returns:\n",
        "    Y_prediction -- a numpy array (vector) containing all predictions (0/1) for the examples in X\n",
        "    '''\n",
        "\n",
        "    w = w.reshape(X.shape[0], 1)\n",
        "\n",
        "    # Compute vector \"A\" predicting the probabilities of a cat being present in the picture\n",
        "    # A = ...\n",
        "    # Then, write a vectorized version of the loop in predict_loop() to compute Y_prediction\n",
        "    # Y_prediction = ...\n",
        "    # YOUR CODE STARTS HERE\n",
        "\n",
        "    A = 1 / (1 + np.exp(-(np.dot(w.T, X) + b)))\n",
        "\n",
        "    # Vectorized version of the loop in predict_loop() to compute Y_prediction\n",
        "\n",
        "    Y_prediction = np.where(A > 0.5, 1, 0)    ## to predict the value 1 if greater tha 0.5 (threshold), else 0.\n",
        "\n",
        "    # YOUR CODE ENDS HERE\n",
        "\n",
        "    return Y_prediction"
      ]
    },
    {
      "cell_type": "code",
      "execution_count": 28,
      "metadata": {
        "id": "rLyBGWMeLgA4",
        "outputId": "27ed018a-2243-4d42-8e8d-a273fc6076f1",
        "colab": {
          "base_uri": "https://localhost:8080/",
          "height": 0
        }
      },
      "outputs": [
        {
          "output_type": "stream",
          "name": "stdout",
          "text": [
            "predictions = [[1 1 0]]\n",
            "Test passed.\n"
          ]
        }
      ],
      "source": [
        "w = np.array([[0.1124579], [0.23106775]])\n",
        "b = -0.3\n",
        "X = np.array([[1., -1.1, -3.2],[1.2, 2., 0.1]])\n",
        "YHAT = predict(w, b, X)\n",
        "print (\"predictions = \" + str(YHAT))\n",
        "if((YHAT==np.array([[1.,1.,0.]])).all()):\n",
        "   print(\"Test passed.\")"
      ]
    },
    {
      "cell_type": "markdown",
      "metadata": {
        "id": "p6rehOl6LgA4"
      },
      "source": [
        "### 2.9 Integrate functions to generate a machine learning model (Points 5)\n",
        "\n",
        "You will now see how the overall model is structured by putting together all the building blocks (functions implemented in the previous parts) together, in the right order.\n",
        "\n",
        "Implement the model function. Use the following notation:\n",
        "- Y_prediction_test for your predictions on the test set\n",
        "- Y_prediction_train for your predictions on the train set\n",
        "- parameters, grads, costs for the outputs of optimize()"
      ]
    },
    {
      "cell_type": "code",
      "execution_count": 29,
      "metadata": {
        "id": "hn4RFRhVLgA4"
      },
      "outputs": [],
      "source": [
        "# GRADED FUNCTION: model\n",
        "\n",
        "def model(X_train, Y_train, X_test, Y_test, num_iterations=2000, learning_rate=0.5, print_cost=False):\n",
        "    \"\"\"\n",
        "    Builds the logistic regression model by calling the functions you've implemented previously\n",
        "\n",
        "    Arguments:\n",
        "    X_train -- training set represented by a numpy array of shape (num_px * num_px * 1, m_train)\n",
        "    Y_train -- training labels represented by a numpy array (vector) of shape (1, m_train)\n",
        "    X_test -- test set represented by a numpy array of shape (num_px * num_px * 1, m_test)\n",
        "    Y_test -- test labels represented by a numpy array (vector) of shape (1, m_test)\n",
        "    num_iterations -- hyperparameter representing the number of iterations to optimize the parameters\n",
        "    learning_rate -- hyperparameter representing the learning rate used in the update rule of optimize()\n",
        "    print_cost -- Set to True to print the cost every 100 iterations\n",
        "\n",
        "    Returns:\n",
        "    d -- dictionary containing information about the model.\n",
        "    \"\"\"\n",
        "    # (≈ 1 line of code)\n",
        "    # initialize parameters with zeros\n",
        "    # and use the \"shape\" function to get the first dimension of X_train\n",
        "    # w, b = ...\n",
        "\n",
        "    w, b = initialize_with_zeros(X_train.shape[0])  ##Initialization of the w and b parameters.\n",
        "\n",
        "\n",
        "    #(≈ 1 line of code)\n",
        "    # Gradient descent\n",
        "    # params, grads, costs = ...\n",
        "\n",
        "    params, grads, costs = optimize(w, b, X_train, Y_train, num_iterations, learning_rate, print_cost)  ##Calling the optimize function to get updated parameters such as w, b, cost and\n",
        "\n",
        "    # Retrieve parameters w and b from dictionary \"params\"\n",
        "    # w = ...\n",
        "    # b = ...\n",
        "\n",
        "    w=params[\"w\"]\n",
        "    b=params[\"b\"]\n",
        "\n",
        "    # Predict test/train set examples (≈ 2 lines of code)\n",
        "    # Y_prediction_test = ...\n",
        "    # Y_prediction_train = ...\n",
        "\n",
        "    # YOUR CODE STARTS HERE\n",
        "\n",
        "    Y_prediction_test = predict(w, b, X_test)  ##Calling the predict function to get predictions for test dataset\n",
        "    Y_prediction_train = predict(w, b, X_train) ##Calling the predict function to get predictions for training dataset\n",
        "\n",
        "    # YOUR CODE ENDS HERE\n",
        "\n",
        "    # Print train/test Errors\n",
        "    train_accuracy = np.round(100 - np.mean(np.abs(Y_prediction_train - Y_train)) * 100,3)\n",
        "    test_accuracy = np.round(100 - np.mean(np.abs(Y_prediction_test - Y_test)) * 100,3)\n",
        "\n",
        "    if print_cost:\n",
        "        print(\"\\n\\n########################################\")\n",
        "        print(\"train accuracy: {} %\".format(train_accuracy))\n",
        "        print(\"test accuracy: {} %\".format(test_accuracy))\n",
        "        print(\"########################################\\n\")\n",
        "\n",
        "\n",
        "    d = {\"costs\": costs,\n",
        "         \"Y_prediction_test\": Y_prediction_test,\n",
        "         \"Y_prediction_train\" : Y_prediction_train,\n",
        "         \"w\" : w,\n",
        "         \"b\" : b,\n",
        "         \"learning_rate\" : learning_rate,\n",
        "         \"num_iterations\": num_iterations,\n",
        "         \"train_accuracy\": train_accuracy,\n",
        "         \"test_accuracy\": test_accuracy}\n",
        "\n",
        "    return d"
      ]
    },
    {
      "cell_type": "markdown",
      "metadata": {
        "id": "R9mcv45oLgA5"
      },
      "source": [
        "#### Run your model"
      ]
    },
    {
      "cell_type": "code",
      "execution_count": 30,
      "metadata": {
        "id": "dTc1r58sLgA5",
        "outputId": "1400aee3-1acd-40ab-e61d-3210e2422106",
        "colab": {
          "base_uri": "https://localhost:8080/",
          "height": 0
        }
      },
      "outputs": [
        {
          "output_type": "stream",
          "name": "stdout",
          "text": [
            "Cost after iteration 0: 0.693147\n",
            "Cost after iteration 100: 0.118477\n",
            "Cost after iteration 200: 0.069830\n",
            "Cost after iteration 300: 0.051633\n",
            "Cost after iteration 400: 0.041947\n",
            "Cost after iteration 500: 0.035867\n",
            "Cost after iteration 600: 0.031663\n",
            "Cost after iteration 700: 0.028566\n",
            "Cost after iteration 800: 0.026179\n",
            "Cost after iteration 900: 0.024277\n",
            "\n",
            "\n",
            "########################################\n",
            "train accuracy: 99.747 %\n",
            "test accuracy: 99.716 %\n",
            "########################################\n",
            "\n"
          ]
        }
      ],
      "source": [
        "logistic_regression_model = model(train_set_x, train_set_y, test_set_x, test_set_y, num_iterations=1000, learning_rate=0.01, print_cost=True)"
      ]
    },
    {
      "cell_type": "markdown",
      "metadata": {
        "id": "ZewBNKFaLgA5"
      },
      "source": [
        "#### Plot of training Cost"
      ]
    },
    {
      "cell_type": "code",
      "execution_count": 31,
      "metadata": {
        "id": "B_fkoBeBLgA5",
        "outputId": "d2e82bcf-2bad-48e9-a069-84ccfa0464e7",
        "colab": {
          "base_uri": "https://localhost:8080/",
          "height": 472
        }
      },
      "outputs": [
        {
          "output_type": "display_data",
          "data": {
            "text/plain": [
              "<Figure size 640x480 with 1 Axes>"
            ],
            "image/png": "[encoded data removed]"
          },
          "metadata": {}
        }
      ],
      "source": [
        "# Plot learning curve (with costs)\n",
        "costs = np.squeeze(logistic_regression_model['costs'])\n",
        "plt.plot(costs)\n",
        "plt.ylabel('cost')\n",
        "plt.xlabel('iterations (per hundreds)')\n",
        "plt.title(\"Training Cost for Learning Rate =\" + str(logistic_regression_model[\"learning_rate\"]))\n",
        "plt.show()\n",
        "\n",
        "##It is seen that with LR 0.01, the model doing is good by minimizing the overall cost of the model."
      ]
    },
    {
      "cell_type": "markdown",
      "metadata": {
        "id": "H0tAsxQSLgA5"
      },
      "source": [
        "## 3. Analysis of Results (Points 30)\n",
        "\n",
        "The questions in this section will be part of your write up.\n",
        "\n",
        "### 3.1 Choice of learning rate (Points 10)\n",
        "\n",
        "**Reminder**:\n",
        "In order for Gradient Descent to work you must choose the learning rate wisely $\\left(\\alpha \\in (0,1)\\right)$. The learning rate $\\alpha$ determines how rapidly we update the parameters. If the learning rate is too large we may \"overshoot\" the optimal value. Similarly, if it is too small we will need too many iterations to converge to the best values. That's why it is crucial to use a well-tuned learning rate.\n",
        "**Task**\n",
        "- Run the training algorithm for 5 different learning rates [0.001, 0.001, 0.01, 0.1, 0.5, 0.75].\n",
        "- Plot the Cost for each experiment on the same figure.\n",
        "- Document your observations. (For example, what can you say about cost convergence for the smallest learning rate?)\n",
        "- Select the best learning rate and explain why you made that selection.\n",
        "- For the selected learning rate, would you change the number of iterations `num_iterations`? Why?\n"
      ]
    },
    {
      "cell_type": "code",
      "execution_count": 32,
      "metadata": {
        "id": "psZ6GxBQLgA5",
        "outputId": "1b1aee85-8a9c-485e-ee16-249263074f22",
        "colab": {
          "base_uri": "https://localhost:8080/",
          "height": 1008
        }
      },
      "outputs": [
        {
          "output_type": "stream",
          "name": "stdout",
          "text": [
            "Training a model with learning rate: 0.001\n",
            "train accuracy: 99.621 %\n",
            "test accuracy: 99.637 %\n",
            "\n",
            "-------------------------------------------------------\n",
            "\n",
            "Training a model with learning rate: 0.01\n",
            "train accuracy: 99.747 %\n",
            "test accuracy: 99.716 %\n",
            "\n",
            "-------------------------------------------------------\n",
            "\n",
            "Training a model with learning rate: 0.1\n",
            "train accuracy: 99.842 %\n",
            "test accuracy: 99.858 %\n",
            "\n",
            "-------------------------------------------------------\n",
            "\n",
            "Training a model with learning rate: 0.5\n",
            "train accuracy: 99.905 %\n",
            "test accuracy: 99.874 %\n",
            "\n",
            "-------------------------------------------------------\n",
            "\n",
            "Training a model with learning rate: 0.75\n",
            "train accuracy: 99.921 %\n",
            "test accuracy: 99.874 %\n",
            "\n",
            "-------------------------------------------------------\n",
            "\n"
          ]
        },
        {
          "output_type": "display_data",
          "data": {
            "text/plain": [
              "<Figure size 640x480 with 1 Axes>"
            ],
            "image/png": "[encoded data removed]"
          },
          "metadata": {}
        }
      ],
      "source": [
        "##The grid of selected learning rates are as  follows.\n",
        "\n",
        "learning_rates = [0.001, 0.01, 0.1, 0.5, 0.75]\n",
        "models = {}\n",
        "\n",
        "for lr in learning_rates:\n",
        "    print (\"Training a model with learning rate: \" + str(lr))\n",
        "    models[str(lr)] = model(train_set_x, train_set_y, test_set_x, test_set_y, num_iterations=1000, learning_rate=lr, print_cost=False)\n",
        "    print(\"train accuracy: {} %\".format(models[str(lr)][\"train_accuracy\"]))\n",
        "    print(\"test accuracy: {} %\".format(models[str(lr)][\"test_accuracy\"]))\n",
        "    print ('\\n' + \"-------------------------------------------------------\" + '\\n')\n",
        "\n",
        "for lr in learning_rates:\n",
        "    plt.plot(np.squeeze(models[str(lr)][\"costs\"]), label=str(models[str(lr)][\"learning_rate\"]))\n",
        "\n",
        "plt.ylabel('cost')\n",
        "plt.xlabel('iterations (hundreds)')\n",
        "plt.title(\"Training COST for Multiple Learning Rates\")\n",
        "legend = plt.legend(loc='upper center', shadow=True)\n",
        "frame = legend.get_frame()\n",
        "frame.set_facecolor('0.90')\n",
        "plt.show()\n",
        "\n",
        "\n",
        "\n"
      ]
    },
    {
      "cell_type": "markdown",
      "metadata": {
        "id": "iJ4cscQALgA6"
      },
      "source": [
        "#### RESPONSE TO Exercise 3.1"
      ]
    },
    {
      "cell_type": "markdown",
      "source": [
        "**Q1. Document your observations. (For example, what can you say about cost convergence for the smallest learning rate?)**\n",
        "\n",
        "\n",
        "**Answer 1.** A linear regression model is applied with different learning rates (LRs) and the performance of the model is shown in below plot.\n",
        "The model is trained for 1000 iterations. With LR 0.001, the model is not good as shown in the plot.\n",
        "It is seen that the model is minimizing the overall model's performance or cost with slow rate. The overall cost for total iterations is 0.2.\n",
        "Whereas, with LR 0.01, the overall performance of the model is better than the LR 0.001, as the model is minimizing the cost faster than then the previous one.\n",
        "The model gets a big jump in first 150 iterations and minimize cost until 0.1. After that, the cost minimization is very slow untill 1000 iterations and remains consistent about 0.05.\n",
        "Whereas, the model performance with LR 0.1 is more better than the previous two LRs. It takes a big jump in first 150 iterations even better jump than the LR 0.01.\n",
        "After that, the cost minimization remains same for this LR and reaches at 0.0 with 700 iterations.\n",
        "Whereas, with LR 0.5 and 0.75, the cost minimization or overall model performance is more better than the previous LRs.\n",
        "With these LRs, the model took more big steps than the previous LRs and reaches to the cost of 0.0 with about 150 iterations.\n",
        "After that, the model performance remains same in terms of cost minimization such as the cost remains 0.0.\n",
        "\n",
        "In general, with the smallest LR (0.001), the model's performance in terms of cost convergence is relatively slow.\n",
        "The overall cost decreases gradually, and after 1000 iterations, it reaches a value of 0.2.\n",
        "This slow convergence suggests that the LR is too small for the model to make significant progress in minimizing the cost within the given number of iterations.\n",
        "Whereas, with LR 0.5, the model took bigger step and minimizes the cost with less iterations as compared to other LRs. In this case, with higher LR, the model is performing good.\n",
        "\n",
        "---\n",
        "\n",
        "**Q2. Select the best learning rate and explain why you made that selection.**\n",
        "\n",
        "\n",
        "**Asnwer 2.** The best LR depends on the trade-off between convergence speed and stability. A very high LR may cause the model to overshoot the minimum, leading to instability and oscillations.\n",
        "Therefore, in this case, LRs of 0.5 and 0.75 provide fast convergence to a cost of 0.0.\n",
        "However, the difference in performance between these two rates is minimal.\n",
        "In this case, I will prefer to choose the more conservative option, 0.5, to avoid potential oscillations.\n",
        "The reason is that with LR 0.5, the model took bigger steps and minimizes the cost with less iterations as compared to other LRs.\n",
        "In conclusion, the LR of 0.5 appears to be the best choice, striking a balance between convergence speed and stability.\n",
        "\n",
        "---\n",
        "\n",
        "**Q3. For the selected learning rate, would you change the number of iterations num_iterations? Why?**\n",
        "\n",
        "\n",
        "**Answer 3.** With the selected LR of 0.5, the model reaches at the cost of 0.0 around 150 iterations.\n",
        "Further iterations do not significantly improve the cost, indicating that the model has already converged.\n",
        "So, if computational resources are a concern, then reducing the number of iterations could save my processing time without sacrificing much in terms of model performance.\n",
        "Changing the number of iterations may not be necessary in this case.\n",
        "If computational resources are a concern, then I will select 200 iterations with the LR of 0.5.\n",
        "\n",
        "\n",
        "If computational resources are a concern, reducing the number of iterations could save processing time without sacrificing much in terms of model performance.\n",
        "In conclusion, the LR of 0.5 appears to be the best choice, striking a balance between convergence speed and stability. The selected learning rate provides rapid convergence to a minimal cost, and there is no immediate need to change the number of iterations given the achieved convergence.\n",
        "\n",
        "---\n"
      ],
      "metadata": {
        "id": "GohsSImvrUHr"
      }
    },
    {
      "cell_type": "markdown",
      "metadata": {
        "id": "_Z8yV3xnLgA6"
      },
      "source": [
        "### 3.2 Training to classify numbers 4 and 8 (Points 10)\n",
        "\n",
        "#### Understanding the Current Dataset and Task\n",
        "- Initially, we have a dataset with images of digits (0 to 9).\n",
        "- Each image is stored in a matrix called `X`.\n",
        "- Each image has a label (the digit it represents), stored in a vector called `Y`.\n",
        "- Currently, we're only using images of 0s and 1s. So, `X` has images of 0s and 1s, and `Y` has labels 0 and 1 respectively.\n",
        "\n",
        "#### Changing the Task to Classify 4s and 8s\n",
        "- Now, we want to change the task. Instead of classifying 0s and 1s, we want to classify 4s and 8s.\n",
        "- This means we need to use images of 4s and 8s in `X` and their labels (4 and 8) in `Y`.\n",
        "\n",
        "### Adapting the Training and Prediction Routines\n",
        "- Can you rerun your training and prediction routines as is? Assuming X is comprised of the 4s and 8s images and Y has the corresponding labels (4 and 8).\n",
        "- What changes or additions are needed? Think about the role of the sigmoid function.\n",
        "- Please provide a detailed explanation of your solution."
      ]
    },
    {
      "cell_type": "markdown",
      "metadata": {
        "id": "9qXtbRa_LgA6"
      },
      "source": [
        "#### RESPONSE TO Exercise 3.2"
      ]
    },
    {
      "cell_type": "markdown",
      "source": [
        "#### **Response to Excercise 3.2**\n",
        "\n",
        "#### **Changing the Task to Classify 4s and 8s**\n",
        "- **Now, we want to change the task. Instead of classifying 0s and 1s, we want to classify 4s and 8s.**\n",
        "- **This means we need to use images of 4s and 8s in `X` and their labels (4 and 8) in `Y`.**\n",
        "\n",
        "---\n",
        "\n",
        "**Answer.** To accomplish this task, I have started with the training of the model with the dataset of images (X) with 4s and 8s. I have used the images of 4s and 8s in `X` and their labels (4 and 8) in `Y`. As the logic to select the 4s and 8s images are as follows:\n",
        "\n",
        "> **I1 = (data_set_y == 4) | (data_set_y == 8)**\n",
        "\n",
        "After selection of the dataset with 4s and 8s, I have to go through some training routine changes such as the main adjustments involve updating the labels in Y to represent 4s and 8s, and ensuring that the sigmoid activation function and the cost function are suitable for binary classification. The sigmoid function provides the output in the range of 0 and 1, for which I have to adapt the prediction routine. The prediction routine needs adjustments to interpret the results in the context of the new task. Since, I am dealing with the binary classification in terms of (4 or 8), the threshold for predicting a class should be set at 0.5. Therefore, I have adjusted the function as, if the sigmoid output is greater than 0.5, classify it as an 8; otherwise, classify it as a 4. The prediction routine is defined as follows:\n",
        "\n",
        "> **Y_prediction = np.where(A > 0.5, 8, 4)**\n",
        "\n",
        "Then, the defined logistic regression model is trained and evaluated to predict the images of 4s and 8s. To predict, the model is applied on the MNIST images as well as I have captured the images of 4s and 8s with whitebackground to perform this task, as shown in the below code section. The model performs good for 8s (1) than the 4s (0).\n",
        "\n",
        "### **Adapting the Training and Prediction Routines**\n",
        "- **Can you rerun your training and prediction routines as is? Assuming X is comprised of the 4s and 8s images and Y has the corresponding labels (4 and 8).**\n",
        "\n",
        "---\n",
        "\n",
        "**Answer1.** To adapt the training and prediction routines for the task of classifying 4s and 8s, I need to make some changes in the code. The main adjustments involve updating the labels in Y to represent 4s and 8s, and ensuring that the sigmoid activation function and the cost function are suitable for binary classification in the training routine. So, I can rerun the training routine as is, but the prediction routine requires the adjustment to interpret the results in the context of the new task. So, to deal with the binary classification (4 or 8) task, the threshold for predicting a class should be set at 0.5 such as greater than 0.5 will be 8; otherwise, it will be considered as 4. No major changes are needed for the new task, as the sigmoid function inherently handles binary classification.\n",
        "\n",
        "- **What changes or additions are needed? Think about the role of the sigmoid function.**\n",
        "---\n",
        "**Answer2.** To classify the 4s and 8s using the defined logistic regression model instead of 0s and 1s, several key modifications are implemented. The key changes are as follows:\n",
        "\n",
        "> **I1 = (data_set_y == 4) | (data_set_y == 8)**\n",
        "\n",
        "> **Y_prediction = np.where(A > 0.5, 8, 4)**\n",
        "\n",
        "Initially, the labels in vector Y are updated, transforming 0s to represent 4s and 1s to represent 8s. Afterwards, the sigmoid activation function, which provides the output to a range between 0 and 1, is retained, as it suits the binary nature of the new classification task. The cost function is then adjusted to accommodate the revised labels and the sigmoid activation output, with the log_loss being employed, a standard choice for binary classification problems. Additionally, the sigmoid function is modified to ensure compatibility with the logistic regression model tailored for the recognition of 4s and 8s. The prediction routine undergoes a crucial change in the threshold for predictions; if the sigmoid output exceeds 0.5, the model classifies it as an 8; otherwise, it is categorized as a 4. These adaptations collectively align the logistic regression model with the specifics of the new dataset, optimizing its performance for the targeted binary classification of 4s and 8s.\n",
        "\n",
        "Therefore, by making these adjustments, the model can be trained and used for the new task of classifying 4s and 8s. The modified prediction function will output predictions for 4s and 8s based on the updated threshold.\n",
        "\n",
        "- **Please provide a detailed explanation of your solution.**\n",
        "---\n",
        "**Answer3.**\n",
        "To adapt the linear regression model originally trained for 0s and 1s images for 4s and 8s, the detailed solution is discussed as follows. For the adaption of the defined model, there are some modification required on prediction end to classify 4s and 8s. Initially, the labels in vector Y are updated, transforming 0s to represent 4s and 1s to represent 8s. Afterwards, the sigmoid activation function is evaluated, which provides the output to a range between 0 and 1, is retained, as it suits the binary nature of the new classification task.\n",
        "Then, the modifications introduced in the predict function are crucial for adapting the model to the new task of classifying images as either representing class 4 or class 8. No major changes are needed for the new task, as the sigmoid function already defined to inherently handle the binary classification task. Following this, a thresholding mechanism is applied at 0.5 to make binary predictions. If the calculated probability surpasses 0.5, the image is classified as representing class 8; otherwise, it is designated as class 4. Afterwards, the updated model is trained to learn about the representation of 4s and 8s in the data.\n",
        "\n",
        "In adapting the function for the new classification task, these modifications showcase the effectiveness of using the sigmoid activation function and tailored thresholding for binary classification. The solution ensures a seamless transition to classifying images as either class 4 or class 8, underscoring the flexibility and versatility of the logistic regression model. The model is evaluated for both MNIST and real-time captured images of 4s and 8s, as shown in the following code sections. It is important to mention that the real-time captured images of 4s and 8s are adjusted with respect to contrast level and inverted background of images to match with the training data. It is noted that the model is performing good. So, in terms of results, the model performs better for the class 8 than the other class.\n",
        "\n",
        "In summary, the already defined linear regression model with modifications in prediction routines can be used for the new task of classifying 4s and 8s with minimal changes. The sigmoid activation function's role is crucial for obtaining probabilities and thresholding at 0.5 facilitates the binary classification decision."
      ],
      "metadata": {
        "id": "NR189s4OrvuY"
      }
    },
    {
      "cell_type": "markdown",
      "source": [
        "Task for 4s and 8s"
      ],
      "metadata": {
        "id": "EwSLb8rSu-p6"
      }
    },
    {
      "cell_type": "code",
      "source": [
        "###The captured images are shown as follows###\n",
        "from google.colab import files\n",
        "import io\n",
        "uploaded_files = files.upload()\n",
        "file_names = list(uploaded_files.keys())\n",
        "# Create a subplot with one row and five columns\n",
        "\n",
        "fig, axes = plt.subplots(1, 2, figsize=(7, 5))\n",
        "\n",
        "for i in range(2):\n",
        "    # Read image from the uploaded files\n",
        "    image = Image.open(io.BytesIO(uploaded_files[file_names[i]]))\n",
        "\n",
        "    # Display the image\n",
        "    axes[i].imshow(image)\n",
        "    axes[i].axis('off')  # Turn off axis labels\n",
        "\n",
        "    # Set the title as the file name\n",
        "    axes[i].set_title(file_names[i])\n",
        "\n",
        "plt.show()\n",
        "\n",
        "###The real-time captured files are displayed as follows##########"
      ],
      "metadata": {
        "colab": {
          "base_uri": "https://localhost:8080/",
          "height": 514
        },
        "id": "EFo1yVs_tZrZ",
        "outputId": "0f103fa5-5aec-4f16-d548-b2b2c3cfb10f"
      },
      "execution_count": 33,
      "outputs": [
        {
          "output_type": "display_data",
          "data": {
            "text/plain": [
              "<IPython.core.display.HTML object>"
            ],
            "text/html": [
              "\n",
              "     <input type=\"file\" id=\"files-51d2c5d5-b465-4df9-b2f4-071ff435fd4a\" name=\"files[]\" multiple disabled\n",
              "        style=\"border:none\" />\n",
              "     <output id=\"result-51d2c5d5-b465-4df9-b2f4-071ff435fd4a\">\n",
              "      Upload widget is only available when the cell has been executed in the\n",
              "      current browser session. Please rerun this cell to enable.\n",
              "      </output>\n",
              "      <script>// Copyright 2017 Google LLC\n",
              "//\n",
              "// Licensed under the Apache License, Version 2.0 (the \"License\");\n",
              "// you may not use this file except in compliance with the License.\n",
              "// You may obtain a copy of the License at\n",
              "//\n",
              "//      http://www.apache.org/licenses/LICENSE-2.0\n",
              "//\n",
              "// Unless required by applicable law or agreed to in writing, software\n",
              "// distributed under the License is distributed on an \"AS IS\" BASIS,\n",
              "// WITHOUT WARRANTIES OR CONDITIONS OF ANY KIND, either express or implied.\n",
              "// See the License for the specific language governing permissions and\n",
              "// limitations under the License.\n",
              "\n",
              "/**\n",
              " * @fileoverview Helpers for google.colab Python module.\n",
              " */\n",
              "(function(scope) {\n",
              "function span(text, styleAttributes = {}) {\n",
              "  const element = document.createElement('span');\n",
              "  element.textContent = text;\n",
              "  for (const key of Object.keys(styleAttributes)) {\n",
              "    element.style[key] = styleAttributes[key];\n",
              "  }\n",
              "  return element;\n",
              "}\n",
              "\n",
              "// Max number of bytes which will be uploaded at a time.\n",
              "const MAX_PAYLOAD_SIZE = 100 * 1024;\n",
              "\n",
              "function _uploadFiles(inputId, outputId) {\n",
              "  const steps = uploadFilesStep(inputId, outputId);\n",
              "  const outputElement = document.getElementById(outputId);\n",
              "  // Cache steps on the outputElement to make it available for the next call\n",
              "  // to uploadFilesContinue from Python.\n",
              "  outputElement.steps = steps;\n",
              "\n",
              "  return _uploadFilesContinue(outputId);\n",
              "}\n",
              "\n",
              "// This is roughly an async generator (not supported in the browser yet),\n",
              "// where there are multiple asynchronous steps and the Python side is going\n",
              "// to poll for completion of each step.\n",
              "// This uses a Promise to block the python side on completion of each step,\n",
              "// then passes the result of the previous step as the input to the next step.\n",
              "function _uploadFilesContinue(outputId) {\n",
              "  const outputElement = document.getElementById(outputId);\n",
              "  const steps = outputElement.steps;\n",
              "\n",
              "  const next = steps.next(outputElement.lastPromiseValue);\n",
              "  return Promise.resolve(next.value.promise).then((value) => {\n",
              "    // Cache the last promise value to make it available to the next\n",
              "    // step of the generator.\n",
              "    outputElement.lastPromiseValue = value;\n",
              "    return next.value.response;\n",
              "  });\n",
              "}\n",
              "\n",
              "/**\n",
              " * Generator function which is called between each async step of the upload\n",
              " * process.\n",
              " * @param {string} inputId Element ID of the input file picker element.\n",
              " * @param {string} outputId Element ID of the output display.\n",
              " * @return {!Iterable<!Object>} Iterable of next steps.\n",
              " */\n",
              "function* uploadFilesStep(inputId, outputId) {\n",
              "  const inputElement = document.getElementById(inputId);\n",
              "  inputElement.disabled = false;\n",
              "\n",
              "  const outputElement = document.getElementById(outputId);\n",
              "  outputElement.innerHTML = '';\n",
              "\n",
              "  const pickedPromise = new Promise((resolve) => {\n",
              "    inputElement.addEventListener('change', (e) => {\n",
              "      resolve(e.target.files);\n",
              "    });\n",
              "  });\n",
              "\n",
              "  const cancel = document.createElement('button');\n",
              "  inputElement.parentElement.appendChild(cancel);\n",
              "  cancel.textContent = 'Cancel upload';\n",
              "  const cancelPromise = new Promise((resolve) => {\n",
              "    cancel.onclick = () => {\n",
              "      resolve(null);\n",
              "    };\n",
              "  });\n",
              "\n",
              "  // Wait for the user to pick the files.\n",
              "  const files = yield {\n",
              "    promise: Promise.race([pickedPromise, cancelPromise]),\n",
              "    response: {\n",
              "      action: 'starting',\n",
              "    }\n",
              "  };\n",
              "\n",
              "  cancel.remove();\n",
              "\n",
              "  // Disable the input element since further picks are not allowed.\n",
              "  inputElement.disabled = true;\n",
              "\n",
              "  if (!files) {\n",
              "    return {\n",
              "      response: {\n",
              "        action: 'complete',\n",
              "      }\n",
              "    };\n",
              "  }\n",
              "\n",
              "  for (const file of files) {\n",
              "    const li = document.createElement('li');\n",
              "    li.append(span(file.name, {fontWeight: 'bold'}));\n",
              "    li.append(span(\n",
              "        `(${file.type || 'n/a'}) - ${file.size} bytes, ` +\n",
              "        `last modified: ${\n",
              "            file.lastModifiedDate ? file.lastModifiedDate.toLocaleDateString() :\n",
              "                                    'n/a'} - `));\n",
              "    const percent = span('0% done');\n",
              "    li.appendChild(percent);\n",
              "\n",
              "    outputElement.appendChild(li);\n",
              "\n",
              "    const fileDataPromise = new Promise((resolve) => {\n",
              "      const reader = new FileReader();\n",
              "      reader.onload = (e) => {\n",
              "        resolve(e.target.result);\n",
              "      };\n",
              "      reader.readAsArrayBuffer(file);\n",
              "    });\n",
              "    // Wait for the data to be ready.\n",
              "    let fileData = yield {\n",
              "      promise: fileDataPromise,\n",
              "      response: {\n",
              "        action: 'continue',\n",
              "      }\n",
              "    };\n",
              "\n",
              "    // Use a chunked sending to avoid message size limits. See b/62115660.\n",
              "    let position = 0;\n",
              "    do {\n",
              "      const length = Math.min(fileData.byteLength - position, MAX_PAYLOAD_SIZE);\n",
              "      const chunk = new Uint8Array(fileData, position, length);\n",
              "      position += length;\n",
              "\n",
              "      const base64 = btoa(String.fromCharCode.apply(null, chunk));\n",
              "      yield {\n",
              "        response: {\n",
              "          action: 'append',\n",
              "          file: file.name,\n",
              "          data: base64,\n",
              "        },\n",
              "      };\n",
              "\n",
              "      let percentDone = fileData.byteLength === 0 ?\n",
              "          100 :\n",
              "          Math.round((position / fileData.byteLength) * 100);\n",
              "      percent.textContent = `${percentDone}% done`;\n",
              "\n",
              "    } while (position < fileData.byteLength);\n",
              "  }\n",
              "\n",
              "  // All done.\n",
              "  yield {\n",
              "    response: {\n",
              "      action: 'complete',\n",
              "    }\n",
              "  };\n",
              "}\n",
              "\n",
              "scope.google = scope.google || {};\n",
              "scope.google.colab = scope.google.colab || {};\n",
              "scope.google.colab._files = {\n",
              "  _uploadFiles,\n",
              "  _uploadFilesContinue,\n",
              "};\n",
              "})(self);\n",
              "</script> "
            ]
          },
          "metadata": {}
        },
        {
          "output_type": "stream",
          "name": "stdout",
          "text": [
            "Saving IMG_4.jpg to IMG_4.jpg\n",
            "Saving IMG_8.jpg to IMG_8.jpg\n"
          ]
        },
        {
          "output_type": "display_data",
          "data": {
            "text/plain": [
              "<Figure size 700x500 with 2 Axes>"
            ],
            "image/png": "[encoded data removed]"
          },
          "metadata": {}
        }
      ]
    },
    {
      "cell_type": "code",
      "source": [
        "# DO NOT CHANGE CODE BELOW\n",
        "\n",
        "# Download dataset from PyTorch website\n",
        "data = datasets.MNIST(root='./data', train=True, download=True, transform=None)\n",
        "\n",
        "# Load train data to memory\n",
        "loader = torch.utils.data.DataLoader(data, batch_size=1)\n",
        "data_set_x_orig = (loader.dataset.data).numpy()\n",
        "data_set_y = (loader.dataset.targets).numpy().reshape(-1,1).T\n",
        "classes = loader.dataset.classes\n",
        "\n",
        "# Leave 1s and 0s on dataset ,\n",
        "# to select dataset with 4s and 8s  \"I1 = (data_set_y == 4) | (data_set_y == 8)\"\n",
        "I1 = (data_set_y == 4) | (data_set_y == 8)\n",
        "data_set_x_orig = data_set_x_orig[I1.reshape(-1), :, :]\n",
        "data_set_y = (data_set_y[I1].reshape(-1,1).T)\n",
        "\n",
        "\n",
        "#Let's split training set in training and test set\n",
        "mm = int(0.5*data_set_x_orig.shape[0])\n",
        "train_set_x_orig = data_set_x_orig[:mm, :, :]\n",
        "train_set_y = data_set_y[:,:mm]\n",
        "test_set_x_orig = data_set_x_orig[mm+1:, :, :]\n",
        "test_set_y = data_set_y[:,mm+1:]\n",
        "\n",
        "\n",
        "#Display example of picture\n",
        "index = 0\n",
        "x = train_set_x_orig[index]\n",
        "y = train_set_y[:, index]\n",
        "c = classes[int(y.item())]\n",
        "plt.imshow(train_set_x_orig[index])\n",
        "print (\"Label y = \" + str(y) + \". This is handwritten \\\"\" + c +  \"\\\" picture.\")\n",
        "\n",
        "#\n",
        "# DO NOT CHANGE CODE ABOVE\n",
        "#################################\n",
        "# Data arrays\n",
        "#   - train_set_x_orig\n",
        "#   - train_set_y\n",
        "#   - test_set_x_orig\n",
        "#   - test_set_y\n",
        "#################################\n",
        "\n",
        "# YOUR CODE STARTS HERE\n",
        "\n",
        "m_train=train_set_x_orig.shape[0] ## number of training examples\n",
        "m_test=test_set_x_orig.shape[0]  ## number of testing examples\n",
        "num_px=train_set_x_orig.shape[1]  ## width of training examples\n",
        "\n",
        "# YOUR CODE ENDS HERE\n",
        "\n",
        "print (\"Number of training examples: m_train = \" + str(m_train))\n",
        "print (\"Number of testing examples: m_test = \" + str(m_test))\n",
        "print (\"Height/Width of each image: num_px = \" + str(num_px))\n",
        "print (\"Each image is of size: (\" + str(num_px) + \", \" + str(num_px) + \", 1)\")\n",
        "print (\"train_set_x shape: \" + str(train_set_x_orig.shape))\n",
        "print (\"train_set_y shape: \" + str(train_set_y.shape))\n",
        "print (\"test_set_x shape: \" + str(test_set_x_orig.shape))\n",
        "print (\"test_set_y shape: \" + str(test_set_y.shape))\n",
        "\n",
        "train_set_x_flatten = train_set_x_orig.reshape(train_set_x_orig.shape[0], -1).T  ## Reshaping the training sets such as flattened into single vectors of shape (num_px  ∗  num_px  ∗  1, 1)\n",
        "test_set_x_flatten = test_set_x_orig.reshape(test_set_x_orig.shape[0], -1).T  ## Reshaping the testing sets such as flattened into single vectors of shape (num_px  ∗  num_px  ∗  1, 1)\n",
        "\n",
        "# YOUR CODE ENDS HERE\n",
        "\n",
        "print (\"train_set_x_flatten shape: \" + str(train_set_x_flatten.shape))\n",
        "print (\"train_set_y shape: \" + str(train_set_y.shape))\n",
        "print (\"test_set_x_flatten shape: \" + str(test_set_x_flatten.shape))\n",
        "print (\"test_set_y shape: \" + str(test_set_y.shape))\n",
        "\n",
        "#####\n",
        "# Standardize train_set_x_flatten and test_set_x_flatten into...\n",
        "# train_set_x = ...\n",
        "# test_set_x = ...\n",
        "\n",
        "# YOUR CODE STARTS HERE\n",
        "\n",
        "train_set_x = train_set_x_flatten / 255.0   ##normalizing training set values to the floating point range of 0.-1\n",
        "test_set_x = test_set_x_flatten / 255.0     ##normalizing testing set values to the floating point range of 0.-1\n",
        "\n",
        "# YOUR CODE ENDS HERE\n"
      ],
      "metadata": {
        "colab": {
          "base_uri": "https://localhost:8080/",
          "height": 662
        },
        "id": "OrsdJkaZeHey",
        "outputId": "3bf048cf-b6df-4271-ffc6-bb8bc55b1087"
      },
      "execution_count": 34,
      "outputs": [
        {
          "output_type": "stream",
          "name": "stdout",
          "text": [
            "Label y = [4]. This is handwritten \"4 - four\" picture.\n",
            "Number of training examples: m_train = 5846\n",
            "Number of testing examples: m_test = 5846\n",
            "Height/Width of each image: num_px = 28\n",
            "Each image is of size: (28, 28, 1)\n",
            "train_set_x shape: (5846, 28, 28)\n",
            "train_set_y shape: (1, 5846)\n",
            "test_set_x shape: (5846, 28, 28)\n",
            "test_set_y shape: (1, 5846)\n",
            "train_set_x_flatten shape: (784, 5846)\n",
            "train_set_y shape: (1, 5846)\n",
            "test_set_x_flatten shape: (784, 5846)\n",
            "test_set_y shape: (1, 5846)\n"
          ]
        },
        {
          "output_type": "display_data",
          "data": {
            "text/plain": [
              "<Figure size 640x480 with 1 Axes>"
            ],
            "image/png": "[encoded data removed]"
          },
          "metadata": {}
        }
      ]
    },
    {
      "cell_type": "code",
      "source": [
        "def predict_4_8(w, b, X):\n",
        "    '''\n",
        "    Predict whether the label is 0 or 1 using learned logistic regression parameters (w, b)\n",
        "\n",
        "    Arguments:\n",
        "    w -- weights, a numpy array of size (num_px * num_px * 1, 1)\n",
        "    b -- bias, a scalar\n",
        "    X -- data of size (num_px * num_px * 1, number of examples)\n",
        "\n",
        "    Returns:\n",
        "    Y_prediction -- a numpy array (vector) containing all predictions (0/1) for the examples in X\n",
        "    '''\n",
        "\n",
        "    w = w.reshape(X.shape[0], 1)\n",
        "\n",
        "    # Compute vector \"A\" predicting the probabilities of a cat being present in the picture\n",
        "    # A = ...\n",
        "    # Then, write a vectorized version of the loop in predict_loop() to compute Y_prediction\n",
        "    # Y_prediction = ...\n",
        "    # YOUR CODE STARTS HERE\n",
        "\n",
        "    A = 1 / (1 + np.exp(-(np.dot(w.T, X) + b)))\n",
        "\n",
        "    # Vectorized version of the loop in predict_loop() to compute Y_prediction\n",
        "\n",
        "    Y_prediction = np.where(A > 0.5, 8, 4)  #The classify 8 if output value is exceding threshold, else 4.\n",
        "\n",
        "    # YOUR CODE ENDS HERE\n",
        "\n",
        "    return Y_prediction\n",
        "#############################################\n",
        "## YOUR CODE STARTS HERE\n"
      ],
      "metadata": {
        "id": "hC0tb8G9fzlm"
      },
      "execution_count": 35,
      "outputs": []
    },
    {
      "cell_type": "code",
      "source": [
        "# GRADED FUNCTION: model\n",
        "\n",
        "def model_2(X_train, Y_train, X_test, Y_test, num_iterations=2000, learning_rate=0.5, print_cost=False):\n",
        "    \"\"\"\n",
        "    Builds the logistic regression model by calling the functions you've implemented previously\n",
        "\n",
        "    Arguments:\n",
        "    X_train -- training set represented by a numpy array of shape (num_px * num_px * 1, m_train)\n",
        "    Y_train -- training labels represented by a numpy array (vector) of shape (1, m_train)\n",
        "    X_test -- test set represented by a numpy array of shape (num_px * num_px * 1, m_test)\n",
        "    Y_test -- test labels represented by a numpy array (vector) of shape (1, m_test)\n",
        "    num_iterations -- hyperparameter representing the number of iterations to optimize the parameters\n",
        "    learning_rate -- hyperparameter representing the learning rate used in the update rule of optimize()\n",
        "    print_cost -- Set to True to print the cost every 100 iterations\n",
        "\n",
        "    Returns:\n",
        "    d -- dictionary containing information about the model.\n",
        "    \"\"\"\n",
        "    # (≈ 1 line of code)\n",
        "    # initialize parameters with zeros\n",
        "    # and use the \"shape\" function to get the first dimension of X_train\n",
        "    # w, b = ...\n",
        "\n",
        "    w, b = initialize_with_zeros(X_train.shape[0])  ##Initialization of the w and b parameters.\n",
        "\n",
        "\n",
        "    #(≈ 1 line of code)\n",
        "    # Gradient descent\n",
        "    # params, grads, costs = ...\n",
        "\n",
        "    params, grads, costs = optimize(w, b, X_train, Y_train, num_iterations, learning_rate, print_cost)  ##Calling the optimize function to get updated parameters such as w, b, cost and\n",
        "\n",
        "    # Retrieve parameters w and b from dictionary \"params\"\n",
        "    # w = ...\n",
        "    # b = ...\n",
        "\n",
        "    w=params[\"w\"]\n",
        "    b=params[\"b\"]\n",
        "\n",
        "    # Predict test/train set examples (≈ 2 lines of code)\n",
        "    # Y_prediction_test = ...\n",
        "    # Y_prediction_train = ...\n",
        "\n",
        "    # YOUR CODE STARTS HERE\n",
        "\n",
        "    Y_prediction_test = predict_4_8(w, b, X_test)  ##Calling the predict function to get predictions for test dataset\n",
        "    Y_prediction_train = predict_4_8(w, b, X_train) ##Calling the predict function to get predictions for training dataset\n",
        "\n",
        "    # YOUR CODE ENDS HERE\n",
        "\n",
        "    # Print train/test Errors\n",
        "    train_accuracy = np.round(100 - np.mean(np.abs(Y_prediction_train - Y_train)) * 100,3)\n",
        "    test_accuracy = np.round(100 - np.mean(np.abs(Y_prediction_test - Y_test)) * 100,3)\n",
        "\n",
        "    if print_cost:\n",
        "        print(\"\\n\\n########################################\")\n",
        "        print(\"train accuracy: {} %\".format(train_accuracy))\n",
        "        print(\"test accuracy: {} %\".format(test_accuracy))\n",
        "        print(\"########################################\\n\")\n",
        "\n",
        "\n",
        "    d = {\"costs\": costs,\n",
        "         \"Y_prediction_test\": Y_prediction_test,\n",
        "         \"Y_prediction_train\" : Y_prediction_train,\n",
        "         \"w\" : w,\n",
        "         \"b\" : b,\n",
        "         \"learning_rate\" : learning_rate,\n",
        "         \"num_iterations\": num_iterations,\n",
        "         \"train_accuracy\": train_accuracy,\n",
        "         \"test_accuracy\": test_accuracy}\n",
        "\n",
        "    return d"
      ],
      "metadata": {
        "id": "3hollffefsrI"
      },
      "execution_count": 36,
      "outputs": []
    },
    {
      "cell_type": "code",
      "source": [
        "logistic_regression_model_2 = model_2(train_set_x, train_set_y, test_set_x, test_set_y, num_iterations=1000, learning_rate=0.01, print_cost=False)"
      ],
      "metadata": {
        "id": "F7x1zhj7f4kA"
      },
      "execution_count": null,
      "outputs": []
    },
    {
      "cell_type": "markdown",
      "source": [
        "Real-time captured image of 8 based prediction"
      ],
      "metadata": {
        "id": "MA08n2f_B8Ur"
      }
    },
    {
      "cell_type": "code",
      "execution_count": 38,
      "metadata": {
        "id": "w8vYtk4-LgA6",
        "outputId": "4721e5c3-3272-4efa-cf4b-cef4d9dfba5b",
        "colab": {
          "base_uri": "https://localhost:8080/",
          "height": 448
        }
      },
      "outputs": [
        {
          "output_type": "stream",
          "name": "stdout",
          "text": [
            "y = 8, your algorithm predicts a \"8 - eight\" picture.\n"
          ]
        },
        {
          "output_type": "display_data",
          "data": {
            "text/plain": [
              "<Figure size 640x480 with 1 Axes>"
            ],
            "image/png": "[encoded data removed]"
          },
          "metadata": {}
        }
      ],
      "source": [
        "# change this to the name of your image file and data folder\n",
        "my_image = \"IMG_8.jpg\"\n",
        "fname = \"/content/\" + my_image\n",
        "\n",
        "## YOUR CODE ENDS HERE\n",
        "#############################################\n",
        "\n",
        "# Load and reshape the image to fit algorithm.\n",
        "image = Image.open(fname).convert('L').resize((num_px, num_px))\n",
        "\n",
        "# Do you need to manipulate your image to fit the training data?\n",
        "#############################################\n",
        "## YOUR CODE STARTS HERE\n",
        "#The contrast level of the real-time captured image is adjusted.\n",
        "\n",
        "contrast_factor = 1.6  # The contrast of image adjusted with respective factor here\n",
        "enhancer = ImageEnhance.Contrast(image)\n",
        "image = enhancer.enhance(contrast_factor)\n",
        "\n",
        "## YOUR CODE ENDS HERE\n",
        "#############################################\n",
        "\n",
        "\n",
        "# Preprocess the image to fit your algorithm.\n",
        "image = np.array(image)\n",
        "#Normalize\n",
        "image = image.astype(float) / 255.0\n",
        "\n",
        "# Display image\n",
        "plt.imshow(image)\n",
        "\n",
        "# Flatten inputs\n",
        "image = image.reshape((1, num_px * num_px)).T\n",
        "\n",
        "# Attempt at categorizing image\n",
        "my_predicted_image = predict_4_8(logistic_regression_model_2[\"w\"], logistic_regression_model_2[\"b\"], image)\n",
        "\n",
        "my_predicted_image = np.squeeze(my_predicted_image)\n",
        "\n",
        "print(\"y = \" + str(my_predicted_image)\n",
        "      + \", your algorithm predicts a \\\"\" + classes[int(my_predicted_image)] +  \"\\\" picture.\")"
      ]
    },
    {
      "cell_type": "markdown",
      "source": [
        "MNIST dataset based prediction"
      ],
      "metadata": {
        "id": "52tIKkiDCCbW"
      }
    },
    {
      "cell_type": "code",
      "source": [
        "################################################################################################################################################\n",
        "##################################################################### Mnist dataset  ###########################################################\n",
        "# Preprocess the image to fit your algorithm.\n",
        "\n",
        "image = np.array(train_set_x_orig[2])\n",
        "#Normalize\n",
        "image = image.astype(float) / 255.0\n",
        "\n",
        "# Display image\n",
        "plt.imshow(image)\n",
        "\n",
        "# Flatten inputs\n",
        "image = image.reshape((1, num_px * num_px)).T\n",
        "\n",
        "# Attempt at categorizing image\n",
        "my_predicted_image = predict_4_8(logistic_regression_model_2[\"w\"], logistic_regression_model_2[\"b\"], image)\n",
        "\n",
        "my_predicted_image = np.squeeze(my_predicted_image)\n",
        "\n",
        "print(\"y = \" + str(my_predicted_image)\n",
        "      + \", your algorithm predicts a \\\"\" + classes[int(my_predicted_image)] +  \"\\\" picture.\")"
      ],
      "metadata": {
        "colab": {
          "base_uri": "https://localhost:8080/",
          "height": 448
        },
        "id": "LgeilBYhB1KZ",
        "outputId": "0b2b0ef5-d307-4937-a2be-9293b754ed74"
      },
      "execution_count": 39,
      "outputs": [
        {
          "output_type": "stream",
          "name": "stdout",
          "text": [
            "y = 8, your algorithm predicts a \"8 - eight\" picture.\n"
          ]
        },
        {
          "output_type": "display_data",
          "data": {
            "text/plain": [
              "<Figure size 640x480 with 1 Axes>"
            ],
            "image/png": "[encoded data removed]"
          },
          "metadata": {}
        }
      ]
    },
    {
      "cell_type": "markdown",
      "metadata": {
        "id": "1I-PM9ltLgA6"
      },
      "source": [
        "### 3.3 Try your one handwritten 0 or 1 (Points 10)\n",
        "\n",
        "**Tasks**\n",
        "1. Handwrite a zero or one in a white page.\n",
        "2. Take a picture of your number and crop the image with a squared layout.\n",
        "3. Save the picture to the data folder in JPG format and with filename `my_image.jpg`. Same folder where the MNIST dataset is located.\n",
        "4. Run the code below and document your observations.\n",
        "5. Is the model predicting the right number?\n",
        "    - Feel free to try different handwritten 1s and 0s at different illumination conditions.\n",
        "    - Examine the original MNIST images.\n",
        "        - Are there any differences between the MNIST images and your images?\n",
        "        - What is the contrast between the number and the background?\n",
        "            - HINT: `ImageEnhance.Contrast(factor)`. Try factor $\\in (1.1, 1.9)$.\n",
        "            - https://pillow.readthedocs.io/en/stable/reference/ImageEnhance.html\n",
        "        - What is the pixel value of the background?\n",
        "            - HINT: `ImageChops.invert()`\n",
        "            - https://pillow.readthedocs.io/en/stable/reference/ImageChops.html\n",
        "    - Do you need to update the code below to make your images better match the characteristics of the training data?\n",
        "    - Update the code accordingly.\n",
        "6. Make sure to try these steps with at least one 0 and one 1.\n",
        "7. Document your observations and intuition."
      ]
    },
    {
      "cell_type": "markdown",
      "source": [
        "Handwritten 0s and 1s"
      ],
      "metadata": {
        "id": "qZlbrb82ZSP7"
      }
    },
    {
      "cell_type": "code",
      "source": [
        "###The captured images are shown as follows###\n",
        "from google.colab import files\n",
        "import io\n",
        "uploaded_files = files.upload()\n",
        "file_names = list(uploaded_files.keys())\n",
        "# Create a subplot with one row and five columns\n",
        "\n",
        "fig, axes = plt.subplots(1, 5, figsize=(7, 5))\n",
        "\n",
        "for i in range(5):\n",
        "    # Read image from the uploaded files\n",
        "    image = Image.open(io.BytesIO(uploaded_files[file_names[i]]))\n",
        "\n",
        "    # Display the image\n",
        "    axes[i].imshow(image)\n",
        "    axes[i].axis('off')  # Turn off axis labels\n",
        "\n",
        "    # Set the title as the file name\n",
        "    axes[i].set_title(file_names[i])\n",
        "\n",
        "plt.show()\n",
        "\n",
        "###The captured files are displayed as follows##########"
      ],
      "metadata": {
        "colab": {
          "base_uri": "https://localhost:8080/",
          "height": 416
        },
        "id": "8yvtHmAJdcq0",
        "outputId": "0d274bb0-1c9a-4cb5-fbff-42bd303cc1a9"
      },
      "execution_count": 40,
      "outputs": [
        {
          "output_type": "display_data",
          "data": {
            "text/plain": [
              "<IPython.core.display.HTML object>"
            ],
            "text/html": [
              "\n",
              "     <input type=\"file\" id=\"files-35a22df2-f95e-4fb7-9650-5348c6585cf7\" name=\"files[]\" multiple disabled\n",
              "        style=\"border:none\" />\n",
              "     <output id=\"result-35a22df2-f95e-4fb7-9650-5348c6585cf7\">\n",
              "      Upload widget is only available when the cell has been executed in the\n",
              "      current browser session. Please rerun this cell to enable.\n",
              "      </output>\n",
              "      <script>// Copyright 2017 Google LLC\n",
              "//\n",
              "// Licensed under the Apache License, Version 2.0 (the \"License\");\n",
              "// you may not use this file except in compliance with the License.\n",
              "// You may obtain a copy of the License at\n",
              "//\n",
              "//      http://www.apache.org/licenses/LICENSE-2.0\n",
              "//\n",
              "// Unless required by applicable law or agreed to in writing, software\n",
              "// distributed under the License is distributed on an \"AS IS\" BASIS,\n",
              "// WITHOUT WARRANTIES OR CONDITIONS OF ANY KIND, either express or implied.\n",
              "// See the License for the specific language governing permissions and\n",
              "// limitations under the License.\n",
              "\n",
              "/**\n",
              " * @fileoverview Helpers for google.colab Python module.\n",
              " */\n",
              "(function(scope) {\n",
              "function span(text, styleAttributes = {}) {\n",
              "  const element = document.createElement('span');\n",
              "  element.textContent = text;\n",
              "  for (const key of Object.keys(styleAttributes)) {\n",
              "    element.style[key] = styleAttributes[key];\n",
              "  }\n",
              "  return element;\n",
              "}\n",
              "\n",
              "// Max number of bytes which will be uploaded at a time.\n",
              "const MAX_PAYLOAD_SIZE = 100 * 1024;\n",
              "\n",
              "function _uploadFiles(inputId, outputId) {\n",
              "  const steps = uploadFilesStep(inputId, outputId);\n",
              "  const outputElement = document.getElementById(outputId);\n",
              "  // Cache steps on the outputElement to make it available for the next call\n",
              "  // to uploadFilesContinue from Python.\n",
              "  outputElement.steps = steps;\n",
              "\n",
              "  return _uploadFilesContinue(outputId);\n",
              "}\n",
              "\n",
              "// This is roughly an async generator (not supported in the browser yet),\n",
              "// where there are multiple asynchronous steps and the Python side is going\n",
              "// to poll for completion of each step.\n",
              "// This uses a Promise to block the python side on completion of each step,\n",
              "// then passes the result of the previous step as the input to the next step.\n",
              "function _uploadFilesContinue(outputId) {\n",
              "  const outputElement = document.getElementById(outputId);\n",
              "  const steps = outputElement.steps;\n",
              "\n",
              "  const next = steps.next(outputElement.lastPromiseValue);\n",
              "  return Promise.resolve(next.value.promise).then((value) => {\n",
              "    // Cache the last promise value to make it available to the next\n",
              "    // step of the generator.\n",
              "    outputElement.lastPromiseValue = value;\n",
              "    return next.value.response;\n",
              "  });\n",
              "}\n",
              "\n",
              "/**\n",
              " * Generator function which is called between each async step of the upload\n",
              " * process.\n",
              " * @param {string} inputId Element ID of the input file picker element.\n",
              " * @param {string} outputId Element ID of the output display.\n",
              " * @return {!Iterable<!Object>} Iterable of next steps.\n",
              " */\n",
              "function* uploadFilesStep(inputId, outputId) {\n",
              "  const inputElement = document.getElementById(inputId);\n",
              "  inputElement.disabled = false;\n",
              "\n",
              "  const outputElement = document.getElementById(outputId);\n",
              "  outputElement.innerHTML = '';\n",
              "\n",
              "  const pickedPromise = new Promise((resolve) => {\n",
              "    inputElement.addEventListener('change', (e) => {\n",
              "      resolve(e.target.files);\n",
              "    });\n",
              "  });\n",
              "\n",
              "  const cancel = document.createElement('button');\n",
              "  inputElement.parentElement.appendChild(cancel);\n",
              "  cancel.textContent = 'Cancel upload';\n",
              "  const cancelPromise = new Promise((resolve) => {\n",
              "    cancel.onclick = () => {\n",
              "      resolve(null);\n",
              "    };\n",
              "  });\n",
              "\n",
              "  // Wait for the user to pick the files.\n",
              "  const files = yield {\n",
              "    promise: Promise.race([pickedPromise, cancelPromise]),\n",
              "    response: {\n",
              "      action: 'starting',\n",
              "    }\n",
              "  };\n",
              "\n",
              "  cancel.remove();\n",
              "\n",
              "  // Disable the input element since further picks are not allowed.\n",
              "  inputElement.disabled = true;\n",
              "\n",
              "  if (!files) {\n",
              "    return {\n",
              "      response: {\n",
              "        action: 'complete',\n",
              "      }\n",
              "    };\n",
              "  }\n",
              "\n",
              "  for (const file of files) {\n",
              "    const li = document.createElement('li');\n",
              "    li.append(span(file.name, {fontWeight: 'bold'}));\n",
              "    li.append(span(\n",
              "        `(${file.type || 'n/a'}) - ${file.size} bytes, ` +\n",
              "        `last modified: ${\n",
              "            file.lastModifiedDate ? file.lastModifiedDate.toLocaleDateString() :\n",
              "                                    'n/a'} - `));\n",
              "    const percent = span('0% done');\n",
              "    li.appendChild(percent);\n",
              "\n",
              "    outputElement.appendChild(li);\n",
              "\n",
              "    const fileDataPromise = new Promise((resolve) => {\n",
              "      const reader = new FileReader();\n",
              "      reader.onload = (e) => {\n",
              "        resolve(e.target.result);\n",
              "      };\n",
              "      reader.readAsArrayBuffer(file);\n",
              "    });\n",
              "    // Wait for the data to be ready.\n",
              "    let fileData = yield {\n",
              "      promise: fileDataPromise,\n",
              "      response: {\n",
              "        action: 'continue',\n",
              "      }\n",
              "    };\n",
              "\n",
              "    // Use a chunked sending to avoid message size limits. See b/62115660.\n",
              "    let position = 0;\n",
              "    do {\n",
              "      const length = Math.min(fileData.byteLength - position, MAX_PAYLOAD_SIZE);\n",
              "      const chunk = new Uint8Array(fileData, position, length);\n",
              "      position += length;\n",
              "\n",
              "      const base64 = btoa(String.fromCharCode.apply(null, chunk));\n",
              "      yield {\n",
              "        response: {\n",
              "          action: 'append',\n",
              "          file: file.name,\n",
              "          data: base64,\n",
              "        },\n",
              "      };\n",
              "\n",
              "      let percentDone = fileData.byteLength === 0 ?\n",
              "          100 :\n",
              "          Math.round((position / fileData.byteLength) * 100);\n",
              "      percent.textContent = `${percentDone}% done`;\n",
              "\n",
              "    } while (position < fileData.byteLength);\n",
              "  }\n",
              "\n",
              "  // All done.\n",
              "  yield {\n",
              "    response: {\n",
              "      action: 'complete',\n",
              "    }\n",
              "  };\n",
              "}\n",
              "\n",
              "scope.google = scope.google || {};\n",
              "scope.google.colab = scope.google.colab || {};\n",
              "scope.google.colab._files = {\n",
              "  _uploadFiles,\n",
              "  _uploadFilesContinue,\n",
              "};\n",
              "})(self);\n",
              "</script> "
            ]
          },
          "metadata": {}
        },
        {
          "output_type": "stream",
          "name": "stdout",
          "text": [
            "Saving IMG_1N.jpg to IMG_1N.jpg\n",
            "Saving IMG_0.jpg to IMG_0.jpg\n",
            "Saving IMG_1.jpg to IMG_1.jpg\n",
            "Saving IMG_2N.jpg to IMG_2N.jpg\n",
            "Saving IMG_3N.JPG to IMG_3N.JPG\n"
          ]
        },
        {
          "output_type": "display_data",
          "data": {
            "text/plain": [
              "<Figure size 700x500 with 5 Axes>"
            ],
            "image/png": "[encoded data removed]"
          },
          "metadata": {}
        }
      ]
    },
    {
      "cell_type": "markdown",
      "source": [
        "### Response 3.3\n",
        "\n",
        "**Tasks**\n",
        "1. **Handwrite a zero or one in a white page.**\n",
        "2. **Take a picture of your number and crop the image with a squared layout.**\n",
        "3. **Save the picture to the data folder in JPG format and with filename `my_image.jpg`. Same folder where the MNIST dataset is located.**\n",
        "4. **Run the code below and document your observations.**\n",
        "\n",
        "\n",
        "**Answer1-4.** I have captured the five images of 1s and 0s on white page, as shown in the above section of code. The images are cropped by manually in squared layout. After capturing the images, the images are uploaded in the colab repository using .jpg formate. Then, I run the following code and it is seen that the defined linear regression model trained for 1s and 0s is not predicting the true classes of given images. I have captured the 1s with different orientations to match the style of MNIST images and it is noticed that the model is not working good for the real images. The defined model works well for class 0, whereas it is less efficient to detect 1s. It misclassifies the 1 as 0, as shown in following code cells of the notebook.\n",
        "\n",
        "---\n",
        "5. **Is the model predicting the right number?**\n",
        "\n",
        "**Answer(5).** The model shows accurate prediction for the class 0, whereas it misclassifies the 1s. The linear regression model trained for 1s and 0s are used to predict the real-time captured images. The linear regression model is tried with different accents and orientations of 1s, however it is less accurate to predict the real images of 1s. Therefore, the model is not predicting the right number except for 0s.\n",
        "\n",
        "---\n",
        "- **Feel free to try different handwritten 1s and 0s at different illumination conditions.**\n",
        "\n",
        "**Answer(5a).** Upon capturing four different images of the digit 1 with various orientations to align with the style of MNIST images, it has become evident that the performance of the defined logistic regression model is suboptimal for these real images. Whereas, the model exhibits proficiency in accurately classifying instances of digit 0, its effectiveness diminishes when confronted with the task of detecting digit 1. Notably, the model tends to misclassify the digit 1 as 0. This observation underscores a limitation in the model's generalization to real-world variations in the presentation of digit 1, prompting the need for further refinement or consideration of alternative approaches to enhance its performance, particularly in scenarios involving different orientations of the digit 1.\n",
        "\n",
        "---\n",
        "\n",
        "- **Examine the original MNIST images.**\n",
        "- **Are there any differences between the MNIST images and your images?**\n",
        "\n",
        "**Answer(5b).** The observed differences between the MNIST images and the captured images of the digit 1 could be attributed to variations in orientation and style. The efforts were made to align the orientations of the captured 1s with the style of MNIST images, as shown in the above code cell of the notebook. The model's performance may still be affected by factors such as variability in writing style, contrast, orienttation and potential distortions introduced during the capturing process. In this case, it is noted that the defined logistic regression model works effectively for classifying 0s but exhibits less efficiency in detecting 1s. The misclassification of 1s as 0s suggests a potential limitation in the model's ability to generalize well to different variations of the digit 1.\n",
        "\n",
        "---\n",
        "- **What is the contrast between the number and the background?**\n",
        "       - HINT: `ImageEnhance.Contrast(factor)`. Try factor $\\in (1.1, 1.9)$.\n",
        "       - https://pillow.readthedocs.io/en/stable/reference/ImageEnhance.html\n",
        "\n",
        "**Answer(5c).** By following the above mentioned information, I have tried different contrast level values ranging from 1.1 to 1.9, as shown in the following code sections. However, the specified model is less efficient to accurately predict the 1s class. I have tried different images of 1s with different contrast levels, but the model has less potential to predict the 1s image as 1. The different contrast levels are applied to the five real images of 1s and 0s, as shown in the following five code cells of the notebook.\n",
        "\n",
        "---\n",
        "\n",
        "- **What is the pixel value of the background?**\n",
        "      - HINT: `ImageChops.invert()`\n",
        "      - https://pillow.readthedocs.io/en/stable/reference/ImageChops.html\n",
        "  \n",
        "**Answer(5d).** After analyzing the performance of the linear regression model by varying the different contrast values, I have tried to invert the image and analyze the pixel values of the background using ImageChops.invert(). The reason of inverting background is that it can provide insights into potential differences between the backgrounds of the real images and the MNIST dataset. Therefore, it is noted that the defined logistic regression model exhibits less prediction ability in detecting 1s. The misclassification of 1s as 0s suggests a potential limitation in the model's ability to generalize well to different variations of the digit 1. The inversion of the background is performed for the five real images of 1s and 0s, as shown in the following five code cells of the notebook.\n",
        "\n",
        "---\n",
        "\n",
        "  - **Do you need to update the code below to make your images better match the characteristics of the training data? Update the code accordingly.**\n",
        "\n",
        "**Answer(5e).** In order to better analyze the prediction ability of the model, the below mentioned code is updated to apply different contrast level of the images as well as to invert the background of the images. The updated code is shown in the following five code cells of this notebook. However, it is seen from different contrast values, inverting background of images and using different styles of writing that the defined linear regression model is unable to predict the digits for the real images. The model shows less efficiency is detecting class 1 as compared to class 0. The experiemnt is performed for different images of 1s and 0s with different styles.\n",
        "\n",
        "---\n",
        "6. **Make sure to try these steps with at least one 0 and one 1.**\n",
        "**Answer(6).** To analyze the prediction ability of the linear regression model, I have tried the above mentioned steps for five different images of 1s and 0. The abovementioned steps are performed for four images of 1s with different styles of 1s to match the MNIST images and one image of 0, as shown in the following five code cells of the notebook. These images are tried with different contrast values ranging from 1.1 to 1.9, inverting background of images and with different writing styles. However, the model is less efficient for 1s class than the 0s.\n",
        "\n",
        "---\n",
        "\n",
        "7. **Document your observations and intuition.**\n",
        "**Answer(7).** To analyze the performance of the linear regression model, I have performed different experiments by capturing the real images. For the experimentation, I took pictures of handwritten 1s and 0s and applied different changes like cropping, resizing, inverting and adjusting contrast. Despite my efforts to make the 1s look like MNIST images, the model struggled to predict them accurately. It did well with 0s but faced difficulties with different styles and orientations of 1s. When I compared the original MNIST images to my captured ones, I noticed differences in writing style, contrast and potential distortions introduced during capturing. Therefore, I captured images with different writing styles and orientations. The model consistently misclassified 1s as 0s, indicating challenges in adapting to diverse representations of digit 1.\n",
        "\n",
        "Afterwards, I tried adjusting contrast with different factors and inverting the background, but the model's performance remained suboptimal for digit 1. The misclassification remains same, highlighting the model's struggle with varying contrast levels and backgrounds. Furthermore, in response to these observations, I updated the code to include contrast adjustments and background inversion. Unfortunately, the results confirmed the model's difficulty in accurately predicting digit 1. This suggests the need for further improvements or alternative approaches to enhance its ability to handle diverse real-world scenarios.\n",
        "\n",
        "In general, the linear regression model worked well for digit 0 but faced challenges with digit 1, especially when dealing with different styles, contrast levels and orientations. These findings emphasize the importance of testing for robustness and exploring potential model enhancements to ensure better performance in various real-world situations."
      ],
      "metadata": {
        "id": "HMK0P-Bci-He"
      }
    },
    {
      "cell_type": "markdown",
      "metadata": {
        "id": "PCX_ehcDLgA6"
      },
      "source": [
        "#### RESPONSE TO Exercise 3.3"
      ]
    },
    {
      "cell_type": "code",
      "source": [
        "# change this to the name of your image file and data folder\n",
        "my_image = \"IMG_0.jpg\"\n",
        "fname = \"/content/\" + my_image\n",
        "\n",
        "## YOUR CODE ENDS HERE\n",
        "#############################################\n",
        "\n",
        "# Load and reshape the image to fit algorithm.\n",
        "image = Image.open(fname).convert('L').resize((num_px, num_px))\n",
        "\n",
        "\n",
        "# Do you need to manipulate your image to fit the training data?\n",
        "#############################################\n",
        "## YOUR CODE STARTS HERE\n",
        "\n",
        "contrast_factor = 1.5  # You can adjust this factor as needed\n",
        "enhancer = ImageEnhance.Contrast(image)\n",
        "image = enhancer.enhance(contrast_factor)\n",
        "\n",
        "\n",
        "## YOUR CODE ENDS HERE\n",
        "#############################################\n",
        "\n",
        "\n",
        "# Preprocess the image to fit your algorithm.\n",
        "image = np.array(image)\n",
        "#Normalize\n",
        "image = image.astype(float) / 255.0\n",
        "\n",
        "# Display image\n",
        "plt.imshow(image)\n",
        "\n",
        "# Flatten inputs\n",
        "image = image.reshape((1, num_px * num_px)).T\n",
        "\n",
        "# Attempt at categorizing image\n",
        "my_predicted_image = predict(logistic_regression_model[\"w\"], logistic_regression_model[\"b\"], image)\n",
        "\n",
        "my_predicted_image = np.squeeze(my_predicted_image)\n",
        "\n",
        "print(\"y = \" + str(my_predicted_image)\n",
        "      + \", your algorithm predicts a \\\"\" + classes[int(my_predicted_image)] +  \"\\\" picture.\")"
      ],
      "metadata": {
        "colab": {
          "base_uri": "https://localhost:8080/",
          "height": 448
        },
        "id": "ac9N6SWIvUY1",
        "outputId": "bf1e6fe3-17b6-42f0-fc15-019cb0ed5499"
      },
      "execution_count": 46,
      "outputs": [
        {
          "output_type": "stream",
          "name": "stdout",
          "text": [
            "y = 0, your algorithm predicts a \"0 - zero\" picture.\n"
          ]
        },
        {
          "output_type": "display_data",
          "data": {
            "text/plain": [
              "<Figure size 640x480 with 1 Axes>"
            ],
            "image/png": "[encoded data removed]"
          },
          "metadata": {}
        }
      ]
    },
    {
      "cell_type": "code",
      "execution_count": 41,
      "metadata": {
        "id": "BQdB7qA09VDl",
        "colab": {
          "base_uri": "https://localhost:8080/",
          "height": 448
        },
        "outputId": "764cac6f-8898-4dcb-9312-f2f1166b2fac"
      },
      "outputs": [
        {
          "output_type": "stream",
          "name": "stdout",
          "text": [
            "y = 0, your algorithm predicts a \"0 - zero\" picture.\n"
          ]
        },
        {
          "output_type": "display_data",
          "data": {
            "text/plain": [
              "<Figure size 640x480 with 1 Axes>"
            ],
            "image/png": "[encoded data removed]"
          },
          "metadata": {}
        }
      ],
      "source": [
        "# change this to the name of your image file and data folder\n",
        "my_image = \"IMG_1N.jpg\"\n",
        "fname = \"/content/\" + my_image\n",
        "\n",
        "## YOUR CODE ENDS HERE\n",
        "#############################################\n",
        "\n",
        "# Load and reshape the image to fit algorithm.\n",
        "image = Image.open(fname).convert('L').resize((num_px, num_px))\n",
        "\n",
        "\n",
        "# Do you need to manipulate your image to fit the training data?\n",
        "#############################################\n",
        "## YOUR CODE STARTS HERE\n",
        "\n",
        "contrast_factor = 1.5  # You can adjust this factor as needed\n",
        "enhancer = ImageEnhance.Contrast(image)\n",
        "image = enhancer.enhance(contrast_factor)\n",
        "\n",
        "\n",
        "image = ImageChops.invert(image)  # Inverted background here\n",
        "\n",
        "## YOUR CODE ENDS HERE\n",
        "#############################################\n",
        "\n",
        "# Preprocess the image to fit your algorithm.\n",
        "image = np.array(image)\n",
        "#Normalize\n",
        "image = image.astype(float) / 255.0\n",
        "\n",
        "# Display image\n",
        "plt.imshow(image)\n",
        "\n",
        "# Flatten inputs\n",
        "image = image.reshape((1, num_px * num_px)).T\n",
        "\n",
        "# Attempt at categorizing image\n",
        "my_predicted_image = predict(logistic_regression_model[\"w\"], logistic_regression_model[\"b\"], image)\n",
        "\n",
        "my_predicted_image = np.squeeze(my_predicted_image)\n",
        "\n",
        "print(\"y = \" + str(my_predicted_image)\n",
        "      + \", your algorithm predicts a \\\"\" + classes[int(my_predicted_image)] +  \"\\\" picture.\")"
      ]
    },
    {
      "cell_type": "code",
      "source": [
        "# change this to the name of your image file and data folder\n",
        "my_image = \"IMG_1.jpg\"\n",
        "fname = \"/content/\" + my_image\n",
        "\n",
        "## YOUR CODE ENDS HERE\n",
        "#############################################\n",
        "\n",
        "# Load and reshape the image to fit algorithm.\n",
        "image = Image.open(fname).convert('L').resize((num_px, num_px))\n",
        "\n",
        "\n",
        "# Do you need to manipulate your image to fit the training data?\n",
        "#############################################\n",
        "## YOUR CODE STARTS HERE\n",
        "contrast_factor = 1.9  # You can adjust this factor as needed\n",
        "enhancer = ImageEnhance.Contrast(image)\n",
        "image = enhancer.enhance(contrast_factor)\n",
        "\n",
        "\n",
        "# Invert background\n",
        "image = ImageChops.invert(image)\n",
        "\n",
        "\n",
        "## YOUR CODE ENDS HERE\n",
        "#############################################\n",
        "\n",
        "\n",
        "# Preprocess the image to fit your algorithm.\n",
        "image = np.array(image)\n",
        "#Normalize\n",
        "image = image.astype(float) / 255.0\n",
        "\n",
        "# Display image\n",
        "plt.imshow(image)\n",
        "\n",
        "# Flatten inputs\n",
        "image = image.reshape((1, num_px * num_px)).T\n",
        "\n",
        "# Attempt at categorizing image\n",
        "my_predicted_image = predict(logistic_regression_model[\"w\"], logistic_regression_model[\"b\"], image)\n",
        "\n",
        "my_predicted_image = np.squeeze(my_predicted_image)\n",
        "\n",
        "print(\"y = \" + str(my_predicted_image)\n",
        "      + \", your algorithm predicts a \\\"\" + classes[int(my_predicted_image)] +  \"\\\" picture.\")"
      ],
      "metadata": {
        "colab": {
          "base_uri": "https://localhost:8080/",
          "height": 448
        },
        "id": "Tx3EufxYlWys",
        "outputId": "77bb59a5-1f03-4dcd-fc37-cfb125c088a8"
      },
      "execution_count": 43,
      "outputs": [
        {
          "output_type": "stream",
          "name": "stdout",
          "text": [
            "y = 0, your algorithm predicts a \"0 - zero\" picture.\n"
          ]
        },
        {
          "output_type": "display_data",
          "data": {
            "text/plain": [
              "<Figure size 640x480 with 1 Axes>"
            ],
            "image/png": "[encoded data removed]"
          },
          "metadata": {}
        }
      ]
    },
    {
      "cell_type": "code",
      "source": [
        "# change this to the name of your image file and data folder\n",
        "my_image = \"IMG_2N.jpg\"\n",
        "fname = \"/content/\" + my_image\n",
        "\n",
        "## YOUR CODE ENDS HERE\n",
        "#############################################\n",
        "\n",
        "# Load and reshape the image to fit algorithm.\n",
        "image = Image.open(fname).convert('L').resize((num_px, num_px))\n",
        "\n",
        "\n",
        "# Do you need to manipulate your image to fit the training data?\n",
        "#############################################\n",
        "## YOUR CODE STARTS HERE\n",
        "\n",
        "contrast_factor = 1.9  # You can adjust this factor as needed\n",
        "enhancer = ImageEnhance.Contrast(image)\n",
        "image = enhancer.enhance(contrast_factor)\n",
        "\n",
        "# Invert background\n",
        "#image = ImageChops.invert(image)\n",
        "\n",
        "## YOUR CODE ENDS HERE\n",
        "#############################################\n",
        "\n",
        "\n",
        "# Preprocess the image to fit your algorithm.\n",
        "image = np.array(image)\n",
        "#Normalize\n",
        "image = image.astype(float) / 255.0\n",
        "\n",
        "# Display image\n",
        "plt.imshow(image)\n",
        "\n",
        "# Flatten inputs\n",
        "image = image.reshape((1, num_px * num_px)).T\n",
        "\n",
        "# Attempt at categorizing image\n",
        "my_predicted_image = predict(logistic_regression_model[\"w\"], logistic_regression_model[\"b\"], image)\n",
        "\n",
        "my_predicted_image = np.squeeze(my_predicted_image)\n",
        "\n",
        "print(\"y = \" + str(my_predicted_image)\n",
        "      + \", your algorithm predicts a \\\"\" + classes[int(my_predicted_image)] +  \"\\\" picture.\")"
      ],
      "metadata": {
        "colab": {
          "base_uri": "https://localhost:8080/",
          "height": 448
        },
        "id": "hq4nZJnN1Ajz",
        "outputId": "c446047f-3d45-4e9f-ed3f-c555cd1c3598"
      },
      "execution_count": 44,
      "outputs": [
        {
          "output_type": "stream",
          "name": "stdout",
          "text": [
            "y = 0, your algorithm predicts a \"0 - zero\" picture.\n"
          ]
        },
        {
          "output_type": "display_data",
          "data": {
            "text/plain": [
              "<Figure size 640x480 with 1 Axes>"
            ],
            "image/png": "[encoded data removed]"
          },
          "metadata": {}
        }
      ]
    },
    {
      "cell_type": "code",
      "source": [
        "# change this to the name of your image file and data folder\n",
        "my_image = \"IMG_3N.JPG\"\n",
        "fname = \"/content/\" + my_image\n",
        "\n",
        "## YOUR CODE ENDS HERE\n",
        "#############################################\n",
        "\n",
        "# Load and reshape the image to fit algorithm.\n",
        "image = Image.open(fname).convert('L').resize((num_px, num_px))\n",
        "\n",
        "\n",
        "# Do you need to manipulate your image to fit the training data?\n",
        "#############################################\n",
        "## YOUR CODE STARTS HERE\n",
        "\n",
        "contrast_factor = 1.2  # You can adjust this factor as needed\n",
        "enhancer = ImageEnhance.Contrast(image)\n",
        "image = enhancer.enhance(contrast_factor)\n",
        "\n",
        "image = ImageChops.invert(image)\n",
        "\n",
        "## YOUR CODE ENDS HERE\n",
        "#############################################\n",
        "\n",
        "\n",
        "# Preprocess the image to fit your algorithm.\n",
        "image = np.array(image)\n",
        "#Normalize\n",
        "image = image.astype(float) / 255.0\n",
        "\n",
        "# Display image\n",
        "plt.imshow(image)\n",
        "\n",
        "# Flatten inputs\n",
        "image = image.reshape((1, num_px * num_px)).T\n",
        "\n",
        "# Attempt at categorizing image\n",
        "my_predicted_image = predict(logistic_regression_model[\"w\"], logistic_regression_model[\"b\"], image)\n",
        "\n",
        "my_predicted_image = np.squeeze(my_predicted_image)\n",
        "\n",
        "print(\"y = \" + str(my_predicted_image)\n",
        "      + \", your algorithm predicts a \\\"\" + classes[int(my_predicted_image)] +  \"\\\" picture.\")"
      ],
      "metadata": {
        "colab": {
          "base_uri": "https://localhost:8080/",
          "height": 448
        },
        "id": "YN3_Kuz-ZAmJ",
        "outputId": "d5778d06-56b6-4515-d610-f2b8bbbc50ff"
      },
      "execution_count": 45,
      "outputs": [
        {
          "output_type": "stream",
          "name": "stdout",
          "text": [
            "y = 0, your algorithm predicts a \"0 - zero\" picture.\n"
          ]
        },
        {
          "output_type": "display_data",
          "data": {
            "text/plain": [
              "<Figure size 640x480 with 1 Axes>"
            ],
            "image/png": "[encoded data removed]"
          },
          "metadata": {}
        }
      ]
    },
    {
      "cell_type": "markdown",
      "metadata": {
        "id": "gdeFfghu9VD8"
      },
      "source": [
        "# Congratulations you have completed your first homework!"
      ]
    }
  ],
  "metadata": {
    "kernelspec": {
      "display_name": "Python 3 (ipykernel)",
      "language": "python",
      "name": "python3"
    },
    "language_info": {
      "codemirror_mode": {
        "name": "ipython",
        "version": 3
      },
      "file_extension": ".py",
      "mimetype": "text/x-python",
      "name": "python",
      "nbconvert_exporter": "python",
      "pygments_lexer": "ipython3",
      "version": "3.11.5"
    },
    "colab": {
      "provenance": []
    }
  },
  "nbformat": 4,
  "nbformat_minor": 0
}